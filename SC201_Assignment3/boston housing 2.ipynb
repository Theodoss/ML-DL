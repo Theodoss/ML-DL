{
 "cells": [
  {
   "cell_type": "code",
   "execution_count": 157,
   "metadata": {
    "collapsed": true
   },
   "outputs": [],
   "source": [
    "# https://ithelp.ithome.com.tw/articles/10235449\n",
    "\n",
    "import math\n",
    "import statistics\n",
    "from collections import defaultdict\n",
    "import pandas as pd\n",
    "import numpy as np\n",
    "from sklearn import preprocessing,decomposition, metrics\n",
    "import seaborn as sns\n",
    "from sklearn.linear_model import LinearRegression\n",
    "from sklearn.model_selection import train_test_split\n",
    "import matplotlib.pyplot as plt\n",
    "from sklearn.model_selection import GridSearchCV"
   ]
  },
  {
   "cell_type": "code",
   "execution_count": 158,
   "outputs": [],
   "source": [
    "TEST_FILE = 'boston_housing/test.csv'\n",
    "TRAIN_FILE = 'boston_housing/train.csv'\n",
    "\n",
    "test_data = pd.read_csv(TEST_FILE)\n",
    "train_data = pd.read_csv(TRAIN_FILE)\n",
    "all_train_data = train_data.copy()"
   ],
   "metadata": {
    "collapsed": false,
    "pycharm": {
     "name": "#%%\n"
    }
   }
  },
  {
   "cell_type": "code",
   "execution_count": 159,
   "outputs": [],
   "source": [
    "labels = train_data.pop('medv')"
   ],
   "metadata": {
    "collapsed": false,
    "pycharm": {
     "name": "#%%\n"
    }
   }
  },
  {
   "cell_type": "code",
   "execution_count": 160,
   "outputs": [
    {
     "name": "stdout",
     "output_type": "stream",
     "text": [
      "ID         173\n",
      "crim       173\n",
      "zn         173\n",
      "indus      173\n",
      "chas       173\n",
      "nox        173\n",
      "rm         173\n",
      "age        173\n",
      "dis        173\n",
      "rad        173\n",
      "tax        173\n",
      "ptratio    173\n",
      "black      173\n",
      "lstat      173\n",
      "dtype: int64\n",
      "ID         173\n",
      "crim       173\n",
      "zn         173\n",
      "indus      173\n",
      "chas       173\n",
      "nox        173\n",
      "rm         173\n",
      "age        173\n",
      "dis        173\n",
      "rad        173\n",
      "tax        173\n",
      "ptratio    173\n",
      "black      173\n",
      "lstat      173\n",
      "dtype: int64\n"
     ]
    }
   ],
   "source": [
    "# 檢查缺失值\n",
    "print(test_data.count())\n",
    "print(test_data.count())\n"
   ],
   "metadata": {
    "collapsed": false,
    "pycharm": {
     "name": "#%%\n"
    }
   }
  },
  {
   "cell_type": "code",
   "execution_count": 161,
   "outputs": [
    {
     "data": {
      "text/plain": "<Figure size 432x288 with 1 Axes>",
      "image/png": "[encoded data removed]"
     },
     "metadata": {
      "needs_background": "light"
     },
     "output_type": "display_data"
    }
   ],
   "source": [
    "# 犯罪相關性\n",
    "x = labels # 房價數據\n",
    "y = train_data[\"crim\"] # 犯罪率數據\n",
    "\n",
    "plt.title(\"Crim_price\")\n",
    "plt.scatter(x, y)\n",
    "plt.xlabel(\"house price\") # x軸的標題\n",
    "plt.ylabel(\"crime rate\") # y軸的標題\n",
    " # 繪製散點圖\n",
    "plt.show() # 顯示圖形"
   ],
   "metadata": {
    "collapsed": false,
    "pycharm": {
     "name": "#%%\n"
    }
   }
  },
  {
   "cell_type": "code",
   "execution_count": 162,
   "outputs": [
    {
     "data": {
      "text/plain": "<Figure size 432x288 with 1 Axes>",
      "image/png": "[encoded data removed]"
     },
     "metadata": {
      "needs_background": "light"
     },
     "output_type": "display_data"
    }
   ],
   "source": [
    "# 非商用土地比例相關性\n",
    "x = labels # 房價數據\n",
    "y = train_data[\"indus\"]\n",
    "\n",
    "plt.title(\"Indus_price\")\n",
    "plt.scatter(x, y)\n",
    "plt.xlabel(\"house price\") # x軸的標題\n",
    "plt.ylabel(\"indus rate\") # y軸的標題\n",
    " # 繪製散點圖\n",
    "plt.show() # 顯示圖形"
   ],
   "metadata": {
    "collapsed": false,
    "pycharm": {
     "name": "#%%\n"
    }
   }
  },
  {
   "cell_type": "code",
   "execution_count": 163,
   "outputs": [
    {
     "data": {
      "text/plain": "<Figure size 432x288 with 1 Axes>",
      "image/png": "[encoded data removed]"
     },
     "metadata": {
      "needs_background": "light"
     },
     "output_type": "display_data"
    }
   ],
   "source": [
    "# 是否為河邊比例相關性\n",
    "x = labels # 房價數據\n",
    "y = train_data[\"chas\"]\n",
    "\n",
    "plt.title(\"Indus_price\")\n",
    "plt.boxplot(y)\n",
    "plt.xlabel(\"house price\") # x軸的標題\n",
    "plt.ylabel(\"chas\") # y軸的標題\n",
    " # 繪製散點圖\n",
    "plt.show() # 顯示圖形"
   ],
   "metadata": {
    "collapsed": false,
    "pycharm": {
     "name": "#%%\n"
    }
   }
  },
  {
   "cell_type": "code",
   "execution_count": 171,
   "outputs": [
    {
     "name": "stdout",
     "output_type": "stream",
     "text": [
      "Index(['crim', 'indus', 'nox', 'rm', 'tax', 'ptratio', 'lstat'], dtype='object')\n",
      "Index(['crim', 'indus', 'nox', 'rm', 'tax', 'ptratio', 'lstat'], dtype='object')\n"
     ]
    }
   ],
   "source": [
    "# from sklearn import preprocessing, linear_model\n",
    "all_train_data.corr(method=\"pearson\")\n",
    "# 拿掉相關性小於 +- 0.4\n",
    "mr_train_data = train_data.drop(columns=['ID','zn','chas','age','dis','rad','black'])\n",
    "mr_test_data = test_data.drop(columns=['ID','zn','chas','age','dis','rad','black'])\n",
    "print(mr_train_data.columns)\n",
    "print(mr_test_data.columns)"
   ],
   "metadata": {
    "collapsed": false,
    "pycharm": {
     "name": "#%%\n"
    }
   }
  },
  {
   "cell_type": "code",
   "execution_count": 165,
   "outputs": [
    {
     "data": {
      "text/plain": "<Figure size 432x288 with 1 Axes>",
      "image/png": "[encoded data removed]"
     },
     "metadata": {
      "needs_background": "light"
     },
     "output_type": "display_data"
    },
    {
     "name": "stdout",
     "output_type": "stream",
     "text": [
      "0.7415070971672502\n"
     ]
    }
   ],
   "source": [
    "# Degree1_LinearRegression\n",
    "x = train_data\n",
    "y = labels # 房價數據\n",
    "\n",
    "x_train, x_test, y_train, y_test = train_test_split(x, y, test_size = 0.3, random_state = 1) # 將數據分成73比\n",
    "lnregr = LinearRegression()\n",
    "lnregr.fit(x_train, y_train) # 將資料拿去訓練\n",
    "\n",
    "y_predict = lnregr.predict(x_test) # test的資料用訓練出來的模型去預測\n",
    "\n",
    "plt.xlabel(\"actual price\") # x軸的標題\n",
    "plt.ylabel(\"predict pcice\") # y軸的標題\n",
    "plt.plot([0,50], [0,50]) # 劃一條基準線\n",
    "plt.scatter(y_test, y_predict) # 比對預測跟實際的差別\n",
    "plt.show() # 察看結果\n",
    "print(lnregr.score(x_train, y_train))"
   ],
   "metadata": {
    "collapsed": false,
    "pycharm": {
     "name": "#%%\n"
    }
   }
  },
  {
   "cell_type": "code",
   "execution_count": 166,
   "outputs": [],
   "source": [
    "def out_file(predictions, filename):\n",
    "    \"\"\"\n",
    "    : param predictions: numpy.array, a list-like data structure that stores 0's and 1's\n",
    "    : param filename: str, the filename you would like to write the results to\n",
    "    \"\"\"\n",
    "    print('\\n===============================================')\n",
    "    print(f'Writing predictions to --> {filename}')\n",
    "    with open(filename, 'w') as out:\n",
    "        out.write('PassengerId,Survived\\n')\n",
    "        for ans in predictions:\n",
    "            out.write(str(start_id) + ',' + str(ans) + '\\n')\n",
    "            start_id += 1\n",
    "    print('===============================================')"
   ],
   "metadata": {
    "collapsed": false,
    "pycharm": {
     "name": "#%%\n"
    }
   }
  },
  {
   "cell_type": "code",
   "execution_count": 168,
   "outputs": [
    {
     "name": "stderr",
     "output_type": "stream",
     "text": [
      "C:\\Users\\Theodos\\Anaconda3\\envs\\Stancode\\lib\\site-packages\\sklearn\\base.py:451: UserWarning: X does not have valid feature names, but PolynomialFeatures was fitted with feature names\n",
      "  \"X does not have valid feature names, but\"\n"
     ]
    },
    {
     "ename": "ValueError",
     "evalue": "X has 8 features, but PolynomialFeatures is expecting 7 features as input.",
     "output_type": "error",
     "traceback": [
      "\u001B[1;31m---------------------------------------------------------------------------\u001B[0m",
      "\u001B[1;31mValueError\u001B[0m                                Traceback (most recent call last)",
      "\u001B[1;32m~\\AppData\\Local\\Temp\\ipykernel_28864\\533005710.py\u001B[0m in \u001B[0;36m<module>\u001B[1;34m\u001B[0m\n\u001B[0;32m     18\u001B[0m     \u001B[0my_predict\u001B[0m \u001B[1;33m=\u001B[0m \u001B[0mlnregr\u001B[0m\u001B[1;33m.\u001B[0m\u001B[0mpredict\u001B[0m\u001B[1;33m(\u001B[0m\u001B[0mx_test\u001B[0m\u001B[1;33m)\u001B[0m \u001B[1;31m# test的資料用訓練出來的模型去預測\u001B[0m\u001B[1;33m\u001B[0m\u001B[1;33m\u001B[0m\u001B[0m\n\u001B[0;32m     19\u001B[0m \u001B[1;33m\u001B[0m\u001B[0m\n\u001B[1;32m---> 20\u001B[1;33m     \u001B[0mmr_test_data\u001B[0m \u001B[1;33m=\u001B[0m \u001B[0mpoly_fea_extractor\u001B[0m\u001B[1;33m.\u001B[0m\u001B[0mtransform\u001B[0m\u001B[1;33m(\u001B[0m\u001B[0mmr_test_data\u001B[0m\u001B[1;33m)\u001B[0m\u001B[1;33m\u001B[0m\u001B[1;33m\u001B[0m\u001B[0m\n\u001B[0m\u001B[0;32m     21\u001B[0m     \u001B[0mtest_predict\u001B[0m \u001B[1;33m=\u001B[0m \u001B[0mlnregr\u001B[0m\u001B[1;33m.\u001B[0m\u001B[0mpredict\u001B[0m\u001B[1;33m(\u001B[0m\u001B[0mmr_test_data\u001B[0m\u001B[1;33m)\u001B[0m\u001B[1;33m\u001B[0m\u001B[1;33m\u001B[0m\u001B[0m\n\u001B[0;32m     22\u001B[0m \u001B[1;33m\u001B[0m\u001B[0m\n",
      "\u001B[1;32m~\\Anaconda3\\envs\\Stancode\\lib\\site-packages\\sklearn\\preprocessing\\_polynomial.py\u001B[0m in \u001B[0;36mtransform\u001B[1;34m(self, X)\u001B[0m\n\u001B[0;32m    368\u001B[0m \u001B[1;33m\u001B[0m\u001B[0m\n\u001B[0;32m    369\u001B[0m         X = self._validate_data(\n\u001B[1;32m--> 370\u001B[1;33m             \u001B[0mX\u001B[0m\u001B[1;33m,\u001B[0m \u001B[0morder\u001B[0m\u001B[1;33m=\u001B[0m\u001B[1;34m\"F\"\u001B[0m\u001B[1;33m,\u001B[0m \u001B[0mdtype\u001B[0m\u001B[1;33m=\u001B[0m\u001B[0mFLOAT_DTYPES\u001B[0m\u001B[1;33m,\u001B[0m \u001B[0mreset\u001B[0m\u001B[1;33m=\u001B[0m\u001B[1;32mFalse\u001B[0m\u001B[1;33m,\u001B[0m \u001B[0maccept_sparse\u001B[0m\u001B[1;33m=\u001B[0m\u001B[1;33m(\u001B[0m\u001B[1;34m\"csr\"\u001B[0m\u001B[1;33m,\u001B[0m \u001B[1;34m\"csc\"\u001B[0m\u001B[1;33m)\u001B[0m\u001B[1;33m\u001B[0m\u001B[1;33m\u001B[0m\u001B[0m\n\u001B[0m\u001B[0;32m    371\u001B[0m         )\n\u001B[0;32m    372\u001B[0m \u001B[1;33m\u001B[0m\u001B[0m\n",
      "\u001B[1;32m~\\Anaconda3\\envs\\Stancode\\lib\\site-packages\\sklearn\\base.py\u001B[0m in \u001B[0;36m_validate_data\u001B[1;34m(self, X, y, reset, validate_separately, **check_params)\u001B[0m\n\u001B[0;32m    583\u001B[0m \u001B[1;33m\u001B[0m\u001B[0m\n\u001B[0;32m    584\u001B[0m         \u001B[1;32mif\u001B[0m \u001B[1;32mnot\u001B[0m \u001B[0mno_val_X\u001B[0m \u001B[1;32mand\u001B[0m \u001B[0mcheck_params\u001B[0m\u001B[1;33m.\u001B[0m\u001B[0mget\u001B[0m\u001B[1;33m(\u001B[0m\u001B[1;34m\"ensure_2d\"\u001B[0m\u001B[1;33m,\u001B[0m \u001B[1;32mTrue\u001B[0m\u001B[1;33m)\u001B[0m\u001B[1;33m:\u001B[0m\u001B[1;33m\u001B[0m\u001B[1;33m\u001B[0m\u001B[0m\n\u001B[1;32m--> 585\u001B[1;33m             \u001B[0mself\u001B[0m\u001B[1;33m.\u001B[0m\u001B[0m_check_n_features\u001B[0m\u001B[1;33m(\u001B[0m\u001B[0mX\u001B[0m\u001B[1;33m,\u001B[0m \u001B[0mreset\u001B[0m\u001B[1;33m=\u001B[0m\u001B[0mreset\u001B[0m\u001B[1;33m)\u001B[0m\u001B[1;33m\u001B[0m\u001B[1;33m\u001B[0m\u001B[0m\n\u001B[0m\u001B[0;32m    586\u001B[0m \u001B[1;33m\u001B[0m\u001B[0m\n\u001B[0;32m    587\u001B[0m         \u001B[1;32mreturn\u001B[0m \u001B[0mout\u001B[0m\u001B[1;33m\u001B[0m\u001B[1;33m\u001B[0m\u001B[0m\n",
      "\u001B[1;32m~\\Anaconda3\\envs\\Stancode\\lib\\site-packages\\sklearn\\base.py\u001B[0m in \u001B[0;36m_check_n_features\u001B[1;34m(self, X, reset)\u001B[0m\n\u001B[0;32m    399\u001B[0m         \u001B[1;32mif\u001B[0m \u001B[0mn_features\u001B[0m \u001B[1;33m!=\u001B[0m \u001B[0mself\u001B[0m\u001B[1;33m.\u001B[0m\u001B[0mn_features_in_\u001B[0m\u001B[1;33m:\u001B[0m\u001B[1;33m\u001B[0m\u001B[1;33m\u001B[0m\u001B[0m\n\u001B[0;32m    400\u001B[0m             raise ValueError(\n\u001B[1;32m--> 401\u001B[1;33m                 \u001B[1;34mf\"X has {n_features} features, but {self.__class__.__name__} \"\u001B[0m\u001B[1;33m\u001B[0m\u001B[1;33m\u001B[0m\u001B[0m\n\u001B[0m\u001B[0;32m    402\u001B[0m                 \u001B[1;34mf\"is expecting {self.n_features_in_} features as input.\"\u001B[0m\u001B[1;33m\u001B[0m\u001B[1;33m\u001B[0m\u001B[0m\n\u001B[0;32m    403\u001B[0m             )\n",
      "\u001B[1;31mValueError\u001B[0m: X has 8 features, but PolynomialFeatures is expecting 7 features as input."
     ]
    }
   ],
   "source": [
    "#使用 選擇過的 mr_train_data\n",
    "x = mr_train_data\n",
    "y = labels # 房價數據\n",
    "\n",
    "x_train, x_test, y_train, y_test = train_test_split(x, y, test_size = 0.3, random_state = 1) # 將數據分成73比\n",
    "lnregr = LinearRegression()\n",
    "\n",
    "for i in range(1,4):\n",
    "    # Train_polynomial\n",
    "    poly_fea_extractor = preprocessing.PolynomialFeatures(degree= i)\n",
    "    x_train = poly_fea_extractor.fit_transform(x_train)\n",
    "\n",
    "    #Test_data_predict\n",
    "    x_test = poly_fea_extractor.transform(x_test)\n",
    "\n",
    "\n",
    "    lnregr.fit(x_train, y_train) # 將資料拿去訓練\n",
    "    y_predict = lnregr.predict(x_test) # test的資料用訓練出來的模型去預測\n",
    "\n",
    "    mr_test_data = poly_fea_extractor.transform(mr_test_data)\n",
    "    test_predict = lnregr.predict(mr_test_data)\n",
    "\n",
    "    out_file(test_predict, \"linearregression_degree\"+str(i)+\"_mr_data\")\n",
    "    print(f'Degree_{i} = {lnregr.score(x_train, y_train)}')\n",
    "    print(f'Degree_{i}= {metrics.mean_squared_error(y_test, y_predict)}')"
   ],
   "metadata": {
    "collapsed": false,
    "pycharm": {
     "name": "#%%\n"
    }
   }
  },
  {
   "cell_type": "code",
   "execution_count": null,
   "outputs": [],
   "source": [
    "# Degree2 較佳\n",
    "poly_fea_extractor = preprocessing.PolynomialFeatures(degree= 2)\n",
    "x_train = poly_fea_extractor.fit_transform(x_train)\n",
    "x_test = poly_fea_extractor.transform(x_test)\n",
    "lnregr.fit(x_train, y_train) # 將資料拿去訓練\n",
    "y_predict = lnregr.predict(x_test) # test的資料用訓練出來的模型去預測\n",
    "test_predict = lnregr.predict(test_data)\n",
    "out_file(test_predict, \"linearregression_degree2_mr_data\")\n"
   ],
   "metadata": {
    "collapsed": false,
    "pycharm": {
     "name": "#%%\n"
    }
   }
  },
  {
   "cell_type": "code",
   "execution_count": null,
   "outputs": [],
   "source": [
    "#使用 train_data\n",
    "x = mr_train_data\n",
    "y = labels # 房價數據\n",
    "\n",
    "x_train, x_test, y_train, y_test = train_test_split(x, y, test_size = 0.3, random_state = 1) # 將數據分成73比\n",
    "lnregr = LinearRegression()\n",
    "\n",
    "for i in range(1,4):\n",
    "    # Train_polynomial\n",
    "    poly_fea_extractor = preprocessing.PolynomialFeatures(degree= i)\n",
    "    x_train = poly_fea_extractor.fit_transform(x_train)\n",
    "\n",
    "    #Test_data_predict\n",
    "    x_test = poly_fea_extractor.transform(x_test)\n",
    "\n",
    "\n",
    "    lnregr.fit(x_train, y_train) # 將資料拿去訓練\n",
    "    y_predict = lnregr.predict(x_test) # test的資料用訓練出來的模型去預測\n",
    "\n",
    "    print(f'Degree_{i} = {lnregr.score(x_train, y_train)}')\n",
    "    print(f'Degree_{i}= {metrics.mean_squared_error(y_test, y_predict)}')"
   ],
   "metadata": {
    "collapsed": false,
    "pycharm": {
     "name": "#%%\n"
    }
   }
  },
  {
   "cell_type": "code",
   "execution_count": null,
   "outputs": [],
   "source": [],
   "metadata": {
    "collapsed": false,
    "pycharm": {
     "name": "#%%\n"
    }
   }
  }
 ],
 "metadata": {
  "kernelspec": {
   "display_name": "Python 3",
   "language": "python",
   "name": "python3"
  },
  "language_info": {
   "codemirror_mode": {
    "name": "ipython",
    "version": 2
   },
   "file_extension": ".py",
   "mimetype": "text/x-python",
   "name": "python",
   "nbconvert_exporter": "python",
   "pygments_lexer": "ipython2",
   "version": "2.7.6"
  }
 },
 "nbformat": 4,
 "nbformat_minor": 0
}