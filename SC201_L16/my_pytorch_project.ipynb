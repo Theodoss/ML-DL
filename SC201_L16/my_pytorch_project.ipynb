{
 "cells": [
  {
   "cell_type": "code",
   "execution_count": null,
   "metadata": {
    "id": "DEsRCQlz-5Cx"
   },
   "outputs": [],
   "source": [
    "# Mount to Google Drive\n",
    "from google.colab import drive\n",
    "drive.mount('/content/drive', force_remount=True)\n",
    "\n",
    "# Define Project Folder\n",
    "FOLDERNAME = 'Colab\\ Notebooks/SC201_L16'\n",
    "\n",
    "%cd drive/MyDrive/$FOLDERNAME"
   ]
  },
  {
   "cell_type": "code",
   "execution_count": null,
   "metadata": {
    "id": "pUvgKcdC_PlB"
   },
   "outputs": [],
   "source": [
    "# Define device\n",
    "import torch\n",
    "if torch.cuda.is_available():\n",
    "  device = torch.device('cuda')\n",
    "else:\n",
    "  device = torch.device('cpu')\n",
    "print('Device:', device)"
   ]
  },
  {
   "cell_type": "code",
   "execution_count": null,
   "metadata": {
    "id": "5WXam8AA_bXa"
   },
   "outputs": [],
   "source": [
    "# Load Existing Dataset\n",
    "train_data = None\n",
    "val_data = None\n",
    "###################################\n",
    "#                                 #\n",
    "#             TODO:               #\n",
    "#                                 #\n",
    "###################################\n"
   ]
  },
  {
   "cell_type": "code",
   "execution_count": null,
   "metadata": {
    "id": "BUYRd7bfKy7N"
   },
   "outputs": [],
   "source": [
    "# Check data dimension\n",
    "###################################\n",
    "#                                 #\n",
    "#             TODO:               #\n",
    "#                                 #\n",
    "###################################"
   ]
  },
  {
   "cell_type": "code",
   "execution_count": null,
   "metadata": {
    "id": "KB8ZyWY5EQTS"
   },
   "outputs": [],
   "source": [
    "num_train = len(train_data)\n",
    "num_val = len(val_data)\n",
    "print('Number of training:', num_train)\n",
    "print('Number of validation:', num_val)"
   ]
  },
  {
   "cell_type": "code",
   "execution_count": null,
   "metadata": {
    "id": "QTFFEk6xAJ99"
   },
   "outputs": [],
   "source": [
    "# Build Model\n",
    "import torch.nn as nn\n",
    "model = None\n",
    "\n",
    "###################################\n",
    "#                                 #\n",
    "#             TODO:               #\n",
    "#                                 #\n",
    "###################################"
   ]
  },
  {
   "cell_type": "code",
   "execution_count": null,
   "metadata": {
    "id": "wTg71OLVKaIO"
   },
   "outputs": [],
   "source": [
    "# Move model to GPU\n",
    "###################################\n",
    "#                                 #\n",
    "#             TODO:               #\n",
    "#                                 #\n",
    "###################################"
   ]
  },
  {
   "cell_type": "code",
   "execution_count": null,
   "metadata": {
    "id": "jbGU1OaCAfnE"
   },
   "outputs": [],
   "source": [
    "# Create Mini-batches\n",
    "from torch.utils.data import DataLoader\n",
    "mini_trains = DataLoader(train_data, batch_size=128, shuffle=True)\n",
    "mini_vals = DataLoader(val_data, batch_size=128, shuffle=True)"
   ]
  },
  {
   "cell_type": "code",
   "execution_count": null,
   "metadata": {
    "id": "0SFsOHJABDtM"
   },
   "outputs": [],
   "source": [
    "# Training Procedure\n",
    "def train(num_epoch, model, mini_trains, mini_vals, device, loss_function, optimizer):\n",
    "  for epoch in range(num_epoch):\n",
    "    num_iters = 0\n",
    "    for x, y in mini_trains:\n",
    "      model.train()\n",
    "      x = x.to(device)\n",
    "      y = y.to(device)\n",
    "      scores = model(x)  \n",
    "      loss = loss_function(scores, y)\n",
    "      optimizer.zero_grad()\n",
    "      loss.backward()\n",
    "      optimizer.step()\n",
    "      if num_iters % 10 == 0:\n",
    "        evaluate_predictor(model, epoch, mini_vals, device)\n",
    "      num_iters += 1"
   ]
  },
  {
   "cell_type": "code",
   "execution_count": null,
   "metadata": {
    "id": "AGjktuIUBDvf"
   },
   "outputs": [],
   "source": [
    "# Validating Procedure\n",
    "def evaluate_predictor(model, epoch, mini_vals, device):\n",
    "  model.eval()\n",
    "  with torch.no_grad():\n",
    "    acc_count = 0\n",
    "    for x, y in mini_vals:\n",
    "      x=x.to(device)\n",
    "      y=y.to(device)\n",
    "      scores=model(x)\n",
    "      predictions=scores.max(1)[1]\n",
    "      acc = predictions.eq(y).sum().item()\n",
    "      acc_count += acc\n",
    "    print(f'Epoch[{epoch+1}] Acc: {acc_count/num_val}')"
   ]
  },
  {
   "cell_type": "code",
   "execution_count": null,
   "metadata": {
    "id": "0V1SD_4pBDyH"
   },
   "outputs": [],
   "source": [
    "# Define loss function & optimizer\n",
    "import torch.optim as optim\n",
    "loss_function = nn.CrossEntropyLoss()\n",
    "optimizer = optim.Adam(model.parameters(), lr=1e-5)"
   ]
  },
  {
   "cell_type": "code",
   "execution_count": null,
   "metadata": {
    "id": "syDtanisBD0c"
   },
   "outputs": [],
   "source": [
    "# Start training \n",
    "train(1, model, mini_trains, mini_vals, device, loss_function, optimizer)"
   ]
  },
  {
   "cell_type": "code",
   "execution_count": null,
   "metadata": {
    "id": "119rmuAeFyfU"
   },
   "outputs": [],
   "source": []
  }
 ],
 "metadata": {
  "accelerator": "GPU",
  "colab": {
   "collapsed_sections": [],
   "name": "my_pytorch_project.ipynb",
   "provenance": []
  },
  "gpuClass": "standard",
  "kernelspec": {
   "display_name": "Python 3",
   "language": "python",
   "name": "python3"
  },
  "language_info": {
   "codemirror_mode": {
    "name": "ipython",
    "version": 3
   },
   "file_extension": ".py",
   "mimetype": "text/x-python",
   "name": "python",
   "nbconvert_exporter": "python",
   "pygments_lexer": "ipython3",
   "version": "3.8.5"
  }
 },
 "nbformat": 4,
 "nbformat_minor": 1
}
