{
  "cells": [
    {
      "cell_type": "code",
      "execution_count": null,
      "metadata": {
        "id": "wbI7UfCbsFPA"
      },
      "outputs": [],
      "source": [
        "import gensim.downloader\n",
        "model = gensim.downloader.load('glove-wiki-gigaword-50') "
      ]
    },
    {
      "cell_type": "code",
      "execution_count": null,
      "metadata": {
        "id": "8TaXuV5esIz8"
      },
      "outputs": [],
      "source": [
        "#1 TODO: Select a word vector and see its shape"
      ]
    },
    {
      "cell_type": "code",
      "execution_count": null,
      "metadata": {
        "id": "kpPz1JSFsgN6"
      },
      "outputs": [],
      "source": [
        ""
      ]
    },
    {
      "cell_type": "code",
      "execution_count": null,
      "metadata": {
        "id": "V02j4t5vsm3k"
      },
      "outputs": [],
      "source": [
        "pairs = [\n",
        "         ('car', 'van'),\n",
        "         ('car', 'truck'), \n",
        "         ('car', 'bicycle'),\n",
        "         ('car', 'vehicle')\n",
        "]"
      ]
    },
    {
      "cell_type": "code",
      "execution_count": null,
      "metadata": {
        "id": "NU3DrNmQlpas"
      },
      "outputs": [],
      "source": [
        "#2 TODO: Find the similarity between pairs"
      ]
    },
    {
      "cell_type": "code",
      "execution_count": null,
      "metadata": {
        "id": "eC8eHHqPlwjf"
      },
      "outputs": [],
      "source": [
        ""
      ]
    },
    {
      "cell_type": "code",
      "execution_count": null,
      "metadata": {
        "id": "4UTsgZXqlw-9"
      },
      "outputs": [],
      "source": [
        "#3 TODO: Find the top5 similar words to 'code'"
      ]
    },
    {
      "cell_type": "code",
      "execution_count": null,
      "metadata": {
        "id": "RoVNTzbQTffQ"
      },
      "outputs": [],
      "source": [
        ""
      ]
    },
    {
      "cell_type": "code",
      "execution_count": null,
      "metadata": {
        "id": "apDszYGrl5RM"
      },
      "outputs": [],
      "source": [
        ""
      ]
    },
    {
      "cell_type": "code",
      "execution_count": null,
      "metadata": {
        "id": "6OyubNOET-y5"
      },
      "outputs": [],
      "source": [
        "def analogy(x1, x2, y1):\n",
        "  result = model.most_similar(positive=[x2, y1], negative=[x1])\n",
        "  return result[0][0]"
      ]
    },
    {
      "cell_type": "code",
      "execution_count": null,
      "metadata": {
        "id": "69-Z5vw0cLsF"
      },
      "outputs": [],
      "source": [
        "analogy('man', 'king', 'woman')"
      ]
    },
    {
      "cell_type": "code",
      "execution_count": null,
      "metadata": {
        "id": "CjUL0qlkcOhu"
      },
      "outputs": [],
      "source": [
        "analogy('man', 'his', 'woman')"
      ]
    },
    {
      "cell_type": "code",
      "execution_count": null,
      "metadata": {
        "id": "KBtTX1NMcOxu"
      },
      "outputs": [],
      "source": [
        "analogy('tall', 'tallest', 'small')"
      ]
    },
    {
      "cell_type": "code",
      "execution_count": null,
      "metadata": {
        "id": "vOd5calOdBsG"
      },
      "outputs": [],
      "source": [
        ""
      ]
    },
    {
      "cell_type": "code",
      "execution_count": null,
      "metadata": {
        "id": "XSIB0BG1dRyH"
      },
      "outputs": [],
      "source": [
        "import numpy as np\n",
        "from sklearn.decomposition import PCA\n",
        "import matplotlib.pyplot as plt"
      ]
    },
    {
      "cell_type": "code",
      "execution_count": null,
      "metadata": {
        "id": "Ox87_4B9gOEp"
      },
      "outputs": [],
      "source": [
        "def display_pca_scatterplot(model, words, sample=0):\n",
        "  word_vectors = np.array([model[word] for word in words])\n",
        "  two_dim = PCA().fit_transform(word_vectors)[:, :2]\n",
        "\n",
        "  plt.figure(figsize=(6, 6))\n",
        "  plt.scatter(two_dim[:, 0], two_dim[:, 1], edgecolors='k', c='r')\n",
        "\n",
        "  for word, (x, y) in zip(words, two_dim):\n",
        "    plt.text(x+0.05, y+0.05, word)"
      ]
    },
    {
      "cell_type": "code",
      "execution_count": null,
      "metadata": {
        "id": "4J0m3WX6gOWS"
      },
      "outputs": [],
      "source": [
        "display_pca_scatterplot(model, \n",
        "                        ['coffee', 'tea',\n",
        "                         'happy', 'sad',\n",
        "                         'car', 'van',\n",
        "                         'basketball', 'baseball'])"
      ]
    },
    {
      "cell_type": "code",
      "execution_count": null,
      "metadata": {
        "id": "L21XcYEBgOl1"
      },
      "outputs": [],
      "source": [
        ""
      ]
    }
  ],
  "metadata": {
    "colab": {
      "name": "NLP.ipynb",
      "provenance": [],
      "collapsed_sections": []
    },
    "kernelspec": {
      "display_name": "Python 3",
      "language": "python",
      "name": "python3"
    },
    "language_info": {
      "codemirror_mode": {
        "name": "ipython",
        "version": 3
      },
      "file_extension": ".py",
      "mimetype": "text/x-python",
      "name": "python",
      "nbconvert_exporter": "python",
      "pygments_lexer": "ipython3",
      "version": "3.7.6"
    }
  },
  "nbformat": 4,
  "nbformat_minor": 0
}