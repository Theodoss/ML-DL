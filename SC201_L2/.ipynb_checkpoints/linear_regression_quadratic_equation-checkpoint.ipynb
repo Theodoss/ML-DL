{
 "cells": [
  {
   "cell_type": "code",
   "execution_count": null,
   "metadata": {},
   "outputs": [],
   "source": [
    "#  File: linear_regression_quadratic_equation.ipynb\n",
    "#  ----------------------------\n",
    "#  This file shows students the fundamental concepts of \n",
    "#  machine learing:\n",
    "#      - loss function\n",
    "#      - cost function\n",
    "#      - linear regression\n",
    "#      - polynomial function\n",
    "#      - training process"
   ]
  },
  {
   "cell_type": "code",
   "execution_count": null,
   "metadata": {},
   "outputs": [],
   "source": [
    "import matplotlib.pyplot as plt\n",
    "import numpy as np"
   ]
  },
  {
   "cell_type": "code",
   "execution_count": null,
   "metadata": {},
   "outputs": [],
   "source": [
    "# This function computes the L2 losses of all data with respect to the hypothesis function \n",
    "# y = theta_prime*x^2+theta*x+b\n",
    "# ----------------------------------------\n",
    "# ∑ [(theta_prime*x_i^2+theta*x_i+b - y_i)^2] / (2*m) \n",
    "# ----------------------------------------\n",
    "\n",
    "# theta_prime: float, parameter of x^2 of the line\n",
    "# theta: float, parameter of x of the line\n",
    "# b: float, parameter of the line\n",
    "# x: list, containing 21 data points\n",
    "# y: list, containing 21 data points\n",
    "# return: float, the sum over all L2 losses of data points\n",
    "\n",
    "def cost_function(theta_prime, theta, b, x, y):\n",
    "    ###################\n",
    "    #                 #\n",
    "    #       TODO      #\n",
    "    #                 #\n",
    "    ###################  "
   ]
  },
  {
   "cell_type": "code",
   "execution_count": null,
   "metadata": {},
   "outputs": [],
   "source": [
    "# You should see 2.4583333333333335  \n",
    "print(cost_function(0.5, 0.5, 0.5, [1, 2, 3], [1, 2, 3]))"
   ]
  },
  {
   "cell_type": "code",
   "execution_count": null,
   "metadata": {},
   "outputs": [],
   "source": [
    "# This function computes the derivative of J with respect to theta_prime which is \n",
    "# ----------------------------------------\n",
    "# ∑ ((theta_prime*(x**2)+theta*x+b)-y)*(x**2) / m\n",
    "# ----------------------------------------\n",
    "\n",
    "# theta_prime: float, parameter of x^2 of the line\n",
    "# theta: float, parameter of x of the line\n",
    "# b: float, parameter of the line\n",
    "# x: list, containing 21 data points\n",
    "# y: list, containing 21 data points\n",
    "# return: float, the derivative of J with respect to theta_prime\n",
    "\n",
    "def dJ_dtheta_prime(theta_prime, theta, b, x, y):\n",
    "    ###################\n",
    "    #                 #\n",
    "    #       TODO      #\n",
    "    #                 #\n",
    "    ###################  "
   ]
  },
  {
   "cell_type": "code",
   "execution_count": null,
   "metadata": {},
   "outputs": [],
   "source": [
    "# You should see 12.666666666666666\n",
    "print(dJ_dtheta_prime(0.5, 0.5, 0.5, [1, 2, 3], [1, 2, 3]))"
   ]
  },
  {
   "cell_type": "code",
   "execution_count": null,
   "metadata": {},
   "outputs": [],
   "source": [
    "# This function computes the derivative of J with respect to theta which is \n",
    "# ----------------------------------------\n",
    "# ∑ ((theta_prime*(x**2)+theta*x+b)-y)*(x) / m\n",
    "# ----------------------------------------\n",
    "\n",
    "# theta_prime: float, parameter of x^2 of the line\n",
    "# theta: float, parameter of x of the line\n",
    "# b: float, parameter of the line\n",
    "# x: list, containing 21 data points\n",
    "# y: list, containing 21 data points\n",
    "# return: float, the derivative of J with respect to theta\n",
    "\n",
    "def dJ_dtheta(theta_prime, theta, b, x, y):\n",
    "    ###################\n",
    "    #                 #\n",
    "    #       TODO      #\n",
    "    #                 #\n",
    "    ###################  "
   ]
  },
  {
   "cell_type": "code",
   "execution_count": null,
   "metadata": {},
   "outputs": [],
   "source": [
    "# You should see 4.666666666666667\n",
    "print(dJ_dtheta(0.5, 0.5, 0.5, [1, 2, 3], [1, 2, 3]))"
   ]
  },
  {
   "cell_type": "code",
   "execution_count": null,
   "metadata": {},
   "outputs": [],
   "source": []
  },
  {
   "cell_type": "code",
   "execution_count": null,
   "metadata": {},
   "outputs": [],
   "source": [
    "# This function computes the derivative of J with respect to b which is \n",
    "# ----------------------------------------\n",
    "# ∑ ((theta_prime*(x**2)+theta*x+b)-y) / m\n",
    "# ----------------------------------------\n",
    "\n",
    "# theta_prime: float, parameter of x^2 of the line\n",
    "# theta: float, parameter of x of the line\n",
    "# b: float, parameter of the line\n",
    "# x: list, containing 21 data points\n",
    "# y: list, containing 21 data points\n",
    "# return: float, the derivative of J with respect to b\n",
    "\n",
    "def dJ_db(theta_prime, theta, b, x, y):\n",
    "    ###################\n",
    "    #                 #\n",
    "    #       TODO      #\n",
    "    #                 #\n",
    "    ###################  "
   ]
  },
  {
   "cell_type": "code",
   "execution_count": null,
   "metadata": {},
   "outputs": [],
   "source": [
    "# You should see 1.8333333333333333\n",
    "print(dJ_db(0.5, 0.5, 0.5, [1, 2, 3], [1, 2, 3]))"
   ]
  },
  {
   "cell_type": "code",
   "execution_count": null,
   "metadata": {},
   "outputs": [],
   "source": []
  },
  {
   "cell_type": "code",
   "execution_count": null,
   "metadata": {},
   "outputs": [],
   "source": [
    "# ---------- DO NOT EDIT THE CODE BELOW THIS LINE ---------- #"
   ]
  },
  {
   "cell_type": "code",
   "execution_count": null,
   "metadata": {},
   "outputs": [],
   "source": [
    "x = [6.1101,5.5277,8.5186,7.0032,5.8598,8.3829,7.4764,8.5781,6.4862,5.0546,5.7107,10.164,5.734,8.4084,5.6407,5.3794,6.3654,5.1301,6.4296,7.0708,6.1891]"
   ]
  },
  {
   "cell_type": "code",
   "execution_count": null,
   "metadata": {},
   "outputs": [],
   "source": [
    "y = [6.592,9.1302,13.662,11.854,6.8233,11.886,4.3483,12,6.5987,3.8166,3.2522,15.505,3.1551,7.2258,0.71618,3.5129,5.3048,0.56077,3.6518,5.3893,3.1386]"
   ]
  },
  {
   "cell_type": "code",
   "execution_count": null,
   "metadata": {},
   "outputs": [],
   "source": [
    "# ---------- Showing your data ---------- #"
   ]
  },
  {
   "cell_type": "code",
   "execution_count": null,
   "metadata": {},
   "outputs": [],
   "source": [
    "plt.scatter(x, y)\n",
    "axes = plt.gca()\n",
    "axes.set_xlim([0,12])\n",
    "axes.set_ylim([0,30])"
   ]
  },
  {
   "cell_type": "code",
   "execution_count": null,
   "metadata": {},
   "outputs": [],
   "source": [
    "# ---------- Initialize your theta ---------- #"
   ]
  },
  {
   "cell_type": "code",
   "execution_count": null,
   "metadata": {},
   "outputs": [],
   "source": [
    "theta_prime = 0.5\n",
    "theta = -0.5\n",
    "b = - 0.5"
   ]
  },
  {
   "cell_type": "code",
   "execution_count": null,
   "metadata": {},
   "outputs": [],
   "source": [
    "# ---------- Initialize your alpha ---------- #"
   ]
  },
  {
   "cell_type": "code",
   "execution_count": null,
   "metadata": {},
   "outputs": [],
   "source": [
    "# TODO: which value is appropriate for an ideal alpha?"
   ]
  },
  {
   "cell_type": "code",
   "execution_count": null,
   "metadata": {},
   "outputs": [],
   "source": [
    "alpha = 0.01"
   ]
  },
  {
   "cell_type": "code",
   "execution_count": null,
   "metadata": {},
   "outputs": [],
   "source": [
    "# ---------- Training process ---------- #"
   ]
  },
  {
   "cell_type": "code",
   "execution_count": null,
   "metadata": {},
   "outputs": [],
   "source": [
    "theta_prime_history = []\n",
    "theta_history = []\n",
    "b_history = []\n",
    "cost_history = []\n",
    "for i in range(11):\n",
    "    ###################\n",
    "    #                 #\n",
    "    #       TODO      #\n",
    "    #                 #\n",
    "    ###################  "
   ]
  },
  {
   "cell_type": "code",
   "execution_count": null,
   "metadata": {},
   "outputs": [],
   "source": [
    "# ---------- Theta changes during training process ---------- #"
   ]
  },
  {
   "cell_type": "code",
   "execution_count": null,
   "metadata": {},
   "outputs": [],
   "source": [
    "print(cost_history)"
   ]
  },
  {
   "cell_type": "code",
   "execution_count": null,
   "metadata": {},
   "outputs": [],
   "source": [
    "cost_x = list(range(len(cost_history)))\n",
    "cost_y = cost_history\n",
    "plt.plot(cost_x, cost_y)\n",
    "plt.title(\"Errors over iterations\", color = 'blue')"
   ]
  },
  {
   "cell_type": "code",
   "execution_count": null,
   "metadata": {},
   "outputs": [],
   "source": []
  },
  {
   "cell_type": "code",
   "execution_count": null,
   "metadata": {},
   "outputs": [],
   "source": [
    "# ----------------- Normalize Your Data ----------------- #"
   ]
  },
  {
   "cell_type": "code",
   "execution_count": null,
   "metadata": {},
   "outputs": [],
   "source": [
    "x_max = max(x)\n",
    "x_min = min(x)\n",
    "###################\n",
    "#                 #\n",
    "#     x_norm      #\n",
    "#                 #\n",
    "###################  "
   ]
  },
  {
   "cell_type": "code",
   "execution_count": null,
   "metadata": {},
   "outputs": [],
   "source": [
    "y_max = max(y)\n",
    "y_min = min(y)\n",
    "###################\n",
    "#                 #\n",
    "#     y_norm      #\n",
    "#                 #\n",
    "###################  "
   ]
  },
  {
   "cell_type": "code",
   "execution_count": null,
   "metadata": {},
   "outputs": [],
   "source": [
    "# ---------- Showing your data ---------- #"
   ]
  },
  {
   "cell_type": "code",
   "execution_count": null,
   "metadata": {},
   "outputs": [],
   "source": [
    "plt.scatter(x_norm, y_norm)\n",
    "axes = plt.gca()\n",
    "axes.set_xlim([-1,1.5])\n",
    "axes.set_ylim([0,1.8])"
   ]
  },
  {
   "cell_type": "code",
   "execution_count": null,
   "metadata": {},
   "outputs": [],
   "source": [
    "# ---------- Initialize your theta ---------- #"
   ]
  },
  {
   "cell_type": "code",
   "execution_count": null,
   "metadata": {},
   "outputs": [],
   "source": [
    "theta_prime = 0.5\n",
    "theta = -0.5\n",
    "b = - 0.5"
   ]
  },
  {
   "cell_type": "code",
   "execution_count": null,
   "metadata": {},
   "outputs": [],
   "source": [
    "# ---------- Initialize your alpha ---------- #"
   ]
  },
  {
   "cell_type": "code",
   "execution_count": null,
   "metadata": {},
   "outputs": [],
   "source": [
    "alpha = 0.01"
   ]
  },
  {
   "cell_type": "code",
   "execution_count": null,
   "metadata": {},
   "outputs": [],
   "source": [
    "# ---------- Training process ---------- #\n",
    "# ------- Using x_norm & y_norm -------- #"
   ]
  },
  {
   "cell_type": "code",
   "execution_count": null,
   "metadata": {},
   "outputs": [],
   "source": [
    "theta_prime_history = []\n",
    "theta_history = []\n",
    "b_history = []\n",
    "cost_history = []\n",
    "for i in range(11):\n",
    "    ###################\n",
    "    #                 #\n",
    "    #       TODO      #\n",
    "    #                 #\n",
    "    ###################  "
   ]
  },
  {
   "cell_type": "code",
   "execution_count": null,
   "metadata": {},
   "outputs": [],
   "source": [
    "# ---------- Theta changes during training process ---------- #"
   ]
  },
  {
   "cell_type": "code",
   "execution_count": null,
   "metadata": {},
   "outputs": [],
   "source": [
    "print(cost_history)"
   ]
  },
  {
   "cell_type": "code",
   "execution_count": null,
   "metadata": {},
   "outputs": [],
   "source": []
  },
  {
   "cell_type": "code",
   "execution_count": null,
   "metadata": {},
   "outputs": [],
   "source": [
    "cost_x = list(range(len(cost_history)))\n",
    "cost_y = cost_history\n",
    "plt.plot(cost_x, cost_y)\n",
    "plt.title(\"Errors over iterations\", color = 'blue')"
   ]
  },
  {
   "cell_type": "code",
   "execution_count": null,
   "metadata": {},
   "outputs": [],
   "source": [
    "theta_prime = theta_prime_history[0]\n",
    "theta = theta_history[0]\n",
    "b = b_history[0]\n",
    "\n",
    "print(f'theta_prime: {theta_prime}, theta: {theta}, b: {b}')\n",
    "\n",
    "x_plot = np.linspace(-1, 1.5, 100)\n",
    "y_plot = theta_prime*(x_plot**2)+theta*(x_plot)+b\n",
    "\n",
    "\n",
    "plt.scatter(x_plot, y_plot, color='red')\n",
    "plt.scatter(x_norm, y_norm, color='blue')\n",
    "\n",
    "\n",
    "# show the plot\n",
    "plt.title(\"0 iterations\", color='red', fontdict = {'fontsize': 20})\n",
    "plt.show()"
   ]
  },
  {
   "cell_type": "code",
   "execution_count": null,
   "metadata": {},
   "outputs": [],
   "source": [
    "theta_prime = theta_prime_history[1]\n",
    "theta = theta_history[1]\n",
    "b = b_history[1]\n",
    "\n",
    "print(f'theta_prime: {theta_prime}, theta: {theta}, b: {b}')\n",
    "\n",
    "x_plot = np.linspace(-1, 1.5, 100)\n",
    "y_plot = theta_prime*(x_plot**2)+theta*(x_plot)+b\n",
    "\n",
    "\n",
    "plt.scatter(x_plot, y_plot, color='red')\n",
    "plt.scatter(x_norm, y_norm, color='blue')\n",
    "\n",
    "\n",
    "# show the plot\n",
    "plt.title(\"1 iterations\", color='red', fontdict = {'fontsize': 20})\n",
    "plt.show()"
   ]
  },
  {
   "cell_type": "code",
   "execution_count": null,
   "metadata": {},
   "outputs": [],
   "source": [
    "theta_prime = theta_prime_history[2]\n",
    "theta = theta_history[2]\n",
    "b = b_history[2]\n",
    "\n",
    "print(f'theta_prime: {theta_prime}, theta: {theta}, b: {b}')\n",
    "\n",
    "x_plot = np.linspace(-1, 1.5, 100)\n",
    "y_plot = theta_prime*(x_plot**2)+theta*(x_plot)+b\n",
    "\n",
    "\n",
    "plt.scatter(x_plot, y_plot, color='red')\n",
    "plt.scatter(x_norm, y_norm, color='blue')\n",
    "\n",
    "\n",
    "# show the plot\n",
    "plt.title(\"2 iterations\", color='red', fontdict = {'fontsize': 20})\n",
    "plt.show()"
   ]
  },
  {
   "cell_type": "code",
   "execution_count": null,
   "metadata": {},
   "outputs": [],
   "source": [
    "theta_prime = theta_prime_history[3]\n",
    "theta = theta_history[3]\n",
    "b = b_history[3]\n",
    "\n",
    "print(f'theta_prime: {theta_prime}, theta: {theta}, b: {b}')\n",
    "\n",
    "x_plot = np.linspace(-1, 1.5, 100)\n",
    "y_plot = theta_prime*(x_plot**2)+theta*(x_plot)+b\n",
    "\n",
    "\n",
    "plt.scatter(x_plot, y_plot, color='red')\n",
    "plt.scatter(x_norm, y_norm, color='blue')\n",
    "\n",
    "\n",
    "# show the plot\n",
    "plt.title(\"3 iterations\", color='red', fontdict = {'fontsize': 20})\n",
    "plt.show()"
   ]
  },
  {
   "cell_type": "code",
   "execution_count": null,
   "metadata": {},
   "outputs": [],
   "source": [
    "theta_prime = theta_prime_history[4]\n",
    "theta = theta_history[4]\n",
    "b = b_history[4]\n",
    "\n",
    "print(f'theta_prime: {theta_prime}, theta: {theta}, b: {b}')\n",
    "\n",
    "x_plot = np.linspace(-1, 1.5, 100)\n",
    "y_plot = theta_prime*(x_plot**2)+theta*(x_plot)+b\n",
    "\n",
    "\n",
    "plt.scatter(x_plot, y_plot, color='red')\n",
    "plt.scatter(x_norm, y_norm, color='blue')\n",
    "\n",
    "\n",
    "# show the plot\n",
    "plt.title(\"4 iterations\", color='red', fontdict = {'fontsize': 20})\n",
    "plt.show()"
   ]
  },
  {
   "cell_type": "code",
   "execution_count": null,
   "metadata": {},
   "outputs": [],
   "source": [
    "theta_prime = theta_prime_history[5]\n",
    "theta = theta_history[5]\n",
    "b = b_history[5]\n",
    "\n",
    "print(f'theta_prime: {theta_prime}, theta: {theta}, b: {b}')\n",
    "\n",
    "x_plot = np.linspace(-1, 1.5, 100)\n",
    "y_plot = theta_prime*(x_plot**2)+theta*(x_plot)+b\n",
    "\n",
    "\n",
    "plt.scatter(x_plot, y_plot, color='red')\n",
    "plt.scatter(x_norm, y_norm, color='blue')\n",
    "\n",
    "\n",
    "# show the plot\n",
    "plt.title(\"5 iterations\", color='red', fontdict = {'fontsize': 20})\n",
    "plt.show()"
   ]
  },
  {
   "cell_type": "code",
   "execution_count": null,
   "metadata": {},
   "outputs": [],
   "source": [
    "theta_prime = theta_prime_history[-1]\n",
    "theta = theta_history[-1]\n",
    "b = b_history[-1]\n",
    "\n",
    "print(f'theta_prime: {theta_prime}, theta: {theta}, b: {b}')\n",
    "\n",
    "x_plot = np.linspace(-1, 1.5, 100)\n",
    "y_plot = theta_prime*(x_plot**2)+theta*(x_plot)+b\n",
    "\n",
    "\n",
    "plt.scatter(x_plot, y_plot, color='red')\n",
    "plt.scatter(x_norm, y_norm, color='blue')\n",
    "\n",
    "\n",
    "# show the plot\n",
    "plt.title(\"Final Model\", color='red', fontdict = {'fontsize': 20})\n",
    "plt.show()"
   ]
  },
  {
   "cell_type": "code",
   "execution_count": null,
   "metadata": {},
   "outputs": [],
   "source": []
  },
  {
   "cell_type": "code",
   "execution_count": null,
   "metadata": {},
   "outputs": [],
   "source": [
    "# Compare with model of degree 1 on original data\n",
    "print('############ Lowest Cost for Model [y = 2.4451083095900437x-4.010927879850494] ############')\n",
    "print(3.0920884827911035)\n",
    "\n",
    "if b > 0:\n",
    "    print(f'\\n\\n ############ Lowest Cost for Model [y={theta_prime_history[-1]}x**2+{theta_history[-1]}x+{b}] ############ ')\n",
    "else:\n",
    "    print(f'\\n\\n ############ Lowest Cost for Model [y={theta_prime_history[-1]}x**2+{theta_history[-1]}x{b}] ############ ')\n",
    "print(cost_history[-1])\n",
    "\n",
    "if cost_history[-1] < 3.0920884827911035:\n",
    "    print('\\n\\nYour model won 😆!!!!')\n",
    "else:\n",
    "    print('\\n\\nOops... You lost 😭 Keep trying!!')"
   ]
  },
  {
   "cell_type": "code",
   "execution_count": null,
   "metadata": {},
   "outputs": [],
   "source": [
    "\"\"\"\n",
    "Is the above result accurate 🤔 There is something wrong...\n",
    "\n",
    "\"\"\""
   ]
  },
  {
   "cell_type": "code",
   "execution_count": null,
   "metadata": {},
   "outputs": [],
   "source": [
    "# Compare with model of degree 1 on normalized data\n",
    "print('############ Lowest Cost for Model [y=0.8403015706272842x-0.6737301993086687] ############')\n",
    "print(0.013844709899169255)\n",
    "\n",
    "if b > 0:\n",
    "    print(f'\\n\\n ############ Lowest Cost for Model [y={theta_prime_history[-1]}x**2+{theta_history[-1]}x+{b}] ############ ')\n",
    "else:\n",
    "    print(f'\\n\\n ############ Lowest Cost for Model [y={theta_prime_history[-1]}x**2+{theta_history[-1]}x{b}] ############ ')\n",
    "print(cost_history[-1])\n",
    "\n",
    "if cost_history[-1] < 0.013844709899169255:\n",
    "    print('\\n\\nYour model won 😆!!!!')\n",
    "else:\n",
    "    print('\\n\\nOops... You lost 😭 Keep trying!!')"
   ]
  }
 ],
 "metadata": {
  "kernelspec": {
   "display_name": "Python 3",
   "language": "python",
   "name": "python3"
  },
  "language_info": {
   "codemirror_mode": {
    "name": "ipython",
    "version": 3
   },
   "file_extension": ".py",
   "mimetype": "text/x-python",
   "name": "python",
   "nbconvert_exporter": "python",
   "pygments_lexer": "ipython3",
   "version": "3.8.5"
  }
 },
 "nbformat": 4,
 "nbformat_minor": 4
}
