{
 "cells": [
  {
   "cell_type": "code",
   "execution_count": null,
   "metadata": {},
   "outputs": [],
   "source": [
    "#  File: linear_regression_two_varialbes\n",
    "#  ----------------------------\n",
    "#  This file shows students the fundamental concepts of \n",
    "#  machine learing:\n",
    "#      - loss function\n",
    "#      - cost function\n",
    "#      - linear regression\n",
    "#      - training process"
   ]
  },
  {
   "cell_type": "code",
   "execution_count": null,
   "metadata": {},
   "outputs": [],
   "source": [
    "import matplotlib.pyplot as plt\n",
    "import numpy as np"
   ]
  },
  {
   "cell_type": "code",
   "execution_count": null,
   "metadata": {},
   "outputs": [],
   "source": [
    "# This function computes the cost to all data:\n",
    "# ----------------------------------------\n",
    "# [sum of (theta*x_i+b - y_i)^2] / (2*m) \n",
    "# ----------------------------------------\n",
    "# where our model is theta*x_i+b\n",
    "# \n",
    "# theta: float, slope of the line\n",
    "# b: float, the point on y axis intersects with the line when x=0\n",
    "# x: list, containing 21 data points\n",
    "# y: list, containing 21 data points\n",
    "\n",
    "# return: float, the sum over all L2 losses of data points divided by 2m\n",
    "\n",
    "def cost_function(theta, b, x, y):\n",
    "    ###################\n",
    "    #                 #\n",
    "    #       TODO      #\n",
    "    #                 #\n",
    "    ###################"
   ]
  },
  {
   "cell_type": "code",
   "execution_count": null,
   "metadata": {},
   "outputs": [],
   "source": [
    "# You should see 0.20833333333333334\n",
    "print(cost_function(0.5, 1.5, [1, 2, 3], [1, 2, 3]))"
   ]
  },
  {
   "cell_type": "code",
   "execution_count": null,
   "metadata": {},
   "outputs": [],
   "source": []
  },
  {
   "cell_type": "code",
   "execution_count": null,
   "metadata": {},
   "outputs": [],
   "source": [
    "# This function returns the partial derivative of L2 loss function with respect to theta: \n",
    "# --------------------------------------\n",
    "# [sum of (theta*x_i+b - y_i)*x_i] / m\n",
    "# --------------------------------------\n",
    "# theta: float, slope of the line\n",
    "# b: float, the point on y axis intersects with the line when x=0\n",
    "# x: list, containing 21 data points\n",
    "# y: list, containing 21 data points\n",
    "# return: float, the derivative of cost function J with respect to theta\n",
    "\n",
    "def dJ_dtheta(theta, b, x, y):\n",
    "    ###################\n",
    "    #                 #\n",
    "    #       TODO      #\n",
    "    #                 #\n",
    "    ###################"
   ]
  },
  {
   "cell_type": "code",
   "execution_count": null,
   "metadata": {},
   "outputs": [],
   "source": [
    "# You should see 0.6666666666666666\n",
    "print(dJ_dtheta(0.5, 1.5, [1, 2, 3], [1, 2, 3]))"
   ]
  },
  {
   "cell_type": "code",
   "execution_count": null,
   "metadata": {},
   "outputs": [],
   "source": []
  },
  {
   "cell_type": "code",
   "execution_count": null,
   "metadata": {},
   "outputs": [],
   "source": [
    "# This function returns the partial derivative of L2 loss function with respect to b: \n",
    "# --------------------------------------\n",
    "# [sum of (theta*x_i+b - y_i)] / m\n",
    "# --------------------------------------\n",
    "# theta: float, slope of the line\n",
    "# b: float, the point on y axis intersects with the line when x=0\n",
    "# x: list, containing 21 data points\n",
    "# y: list, containing 21 data points\n",
    "# return: float, the derivative of cost function J with respect to b\n",
    "\n",
    "def dJ_db(theta, b, x, y):\n",
    "    ###################\n",
    "    #                 #\n",
    "    #       TODO      #\n",
    "    #                 #\n",
    "    ###################"
   ]
  },
  {
   "cell_type": "code",
   "execution_count": null,
   "metadata": {},
   "outputs": [],
   "source": [
    "# You should see 0.5\n",
    "print(dJ_db(0.5, 1.5, [1, 2, 3], [1, 2, 3]))"
   ]
  },
  {
   "cell_type": "code",
   "execution_count": null,
   "metadata": {},
   "outputs": [],
   "source": []
  },
  {
   "cell_type": "code",
   "execution_count": null,
   "metadata": {},
   "outputs": [],
   "source": [
    "# ---------- DO NOT EDIT THE CODE BELOW THIS LINE ---------- #"
   ]
  },
  {
   "cell_type": "code",
   "execution_count": null,
   "metadata": {},
   "outputs": [],
   "source": [
    "x = [6.1101,5.5277,8.5186,7.0032,5.8598,8.3829,7.4764,8.5781,6.4862,5.0546,5.7107,10.164,5.734,8.4084,5.6407,5.3794,6.3654,5.1301,6.4296,7.0708,6.1891]"
   ]
  },
  {
   "cell_type": "code",
   "execution_count": null,
   "metadata": {},
   "outputs": [],
   "source": [
    "y = [6.592,9.1302,13.662,11.854,6.8233,11.886,4.3483,12,6.5987,3.8166,3.2522,15.505,3.1551,7.2258,0.71618,3.5129,5.3048,0.56077,3.6518,5.3893,3.1386]"
   ]
  },
  {
   "cell_type": "code",
   "execution_count": null,
   "metadata": {},
   "outputs": [],
   "source": [
    "# ---------- Showing your data ---------- #"
   ]
  },
  {
   "cell_type": "code",
   "execution_count": null,
   "metadata": {},
   "outputs": [],
   "source": [
    "plt.scatter(x, y)\n",
    "axes = plt.gca()\n",
    "axes.set_xlim([0,12])\n",
    "axes.set_ylim([0,30])"
   ]
  },
  {
   "cell_type": "code",
   "execution_count": null,
   "metadata": {},
   "outputs": [],
   "source": [
    "# ---------- Initialize your theta ---------- #"
   ]
  },
  {
   "cell_type": "code",
   "execution_count": null,
   "metadata": {},
   "outputs": [],
   "source": [
    "theta = ######### TODO #########\n",
    "b = ######### TODO #########"
   ]
  },
  {
   "cell_type": "code",
   "execution_count": null,
   "metadata": {},
   "outputs": [],
   "source": [
    "# ---------- Initialize your alpha ---------- #"
   ]
  },
  {
   "cell_type": "code",
   "execution_count": null,
   "metadata": {},
   "outputs": [],
   "source": [
    "# TODO: which value is appropriate for an ideal alpha?"
   ]
  },
  {
   "cell_type": "code",
   "execution_count": null,
   "metadata": {},
   "outputs": [],
   "source": [
    "alpha = ######### TODO #########"
   ]
  },
  {
   "cell_type": "code",
   "execution_count": null,
   "metadata": {},
   "outputs": [],
   "source": [
    "# ---------- Training process ---------- #"
   ]
  },
  {
   "cell_type": "code",
   "execution_count": null,
   "metadata": {},
   "outputs": [],
   "source": [
    "theta_history = []\n",
    "b_history = []\n",
    "cost_history = []\n",
    "for i in range(11):\n",
    "    ###################\n",
    "    #                 #\n",
    "    #       TODO      #\n",
    "    #                 #\n",
    "    ###################  "
   ]
  },
  {
   "cell_type": "code",
   "execution_count": null,
   "metadata": {},
   "outputs": [],
   "source": [
    "# ---------- Theta changes during training process ---------- #"
   ]
  },
  {
   "cell_type": "code",
   "execution_count": null,
   "metadata": {},
   "outputs": [],
   "source": [
    "print(cost_history)"
   ]
  },
  {
   "cell_type": "code",
   "execution_count": null,
   "metadata": {},
   "outputs": [],
   "source": [
    "theta = theta_history[0]\n",
    "b = b_history[0]\n",
    "\n",
    "print(f'theta: {theta}, b = {b}')\n",
    "\n",
    "x_plot = np.linspace(0, 12, 140)\n",
    "y_plot = theta*x_plot + b\n",
    "\n",
    "\n",
    "plt.scatter(x_plot, y_plot, s=8, color='red')\n",
    "plt.scatter(x, y, color='blue')\n",
    "\n",
    "plt.title(\"0 iterations\", color='red', fontdict = {'fontsize': 20})\n",
    "plt.show()"
   ]
  },
  {
   "cell_type": "code",
   "execution_count": null,
   "metadata": {},
   "outputs": [],
   "source": [
    "theta = theta_history[1]\n",
    "b = b_history[1]\n",
    "\n",
    "print(f'theta: {theta}, b = {b}')\n",
    "\n",
    "x_plot = np.linspace(0, 12, 140)\n",
    "y_plot = theta*x_plot + b\n",
    "\n",
    "\n",
    "plt.scatter(x_plot, y_plot, s=8, color='red')\n",
    "plt.scatter(x, y, color='blue')\n",
    "\n",
    "plt.title(\"1 iterations\", color='red', fontdict = {'fontsize': 20})\n",
    "plt.show()"
   ]
  },
  {
   "cell_type": "code",
   "execution_count": null,
   "metadata": {},
   "outputs": [],
   "source": [
    "theta = theta_history[2]\n",
    "b = b_history[2]\n",
    "\n",
    "print(f'theta: {theta}, b = {b}')\n",
    "\n",
    "x_plot = np.linspace(0, 12, 140)\n",
    "y_plot = theta*x_plot + b\n",
    "\n",
    "\n",
    "plt.scatter(x_plot, y_plot, s=8, color='red')\n",
    "plt.scatter(x, y, color='blue')\n",
    "\n",
    "plt.title(\"2 iterations\", color='red', fontdict = {'fontsize': 20})\n",
    "plt.show()"
   ]
  },
  {
   "cell_type": "code",
   "execution_count": null,
   "metadata": {},
   "outputs": [],
   "source": [
    "theta = theta_history[3]\n",
    "b = b_history[3]\n",
    "\n",
    "print(f'theta: {theta}, b = {b}')\n",
    "\n",
    "x_plot = np.linspace(0, 12, 140)\n",
    "y_plot = theta*x_plot + b\n",
    "\n",
    "\n",
    "plt.scatter(x_plot, y_plot, s=8, color='red')\n",
    "plt.scatter(x, y, color='blue')\n",
    "\n",
    "plt.title(\"3 iterations\", color='red', fontdict = {'fontsize': 20})\n",
    "plt.show()"
   ]
  },
  {
   "cell_type": "code",
   "execution_count": null,
   "metadata": {},
   "outputs": [],
   "source": [
    "theta = theta_history[4]\n",
    "b = b_history[4]\n",
    "\n",
    "print(f'theta: {theta}, b = {b}')\n",
    "\n",
    "x_plot = np.linspace(0, 12, 140)\n",
    "y_plot = theta*x_plot + b\n",
    "\n",
    "\n",
    "plt.scatter(x_plot, y_plot, s=8, color='red')\n",
    "plt.scatter(x, y, color='blue')\n",
    "\n",
    "plt.title(\"4 iterations\", color='red', fontdict = {'fontsize': 20})\n",
    "plt.show()"
   ]
  },
  {
   "cell_type": "code",
   "execution_count": null,
   "metadata": {},
   "outputs": [],
   "source": [
    "theta = theta_history[5]\n",
    "b = b_history[5]\n",
    "\n",
    "print(f'theta: {theta}, b = {b}')\n",
    "\n",
    "x_plot = np.linspace(0, 12, 140)\n",
    "y_plot = theta*x_plot + b\n",
    "\n",
    "\n",
    "plt.scatter(x_plot, y_plot, s=8, color='red')\n",
    "plt.scatter(x, y, color='blue')\n",
    "\n",
    "plt.title(\"5 iterations\", color='red', fontdict = {'fontsize': 20})\n",
    "plt.show()"
   ]
  },
  {
   "cell_type": "code",
   "execution_count": null,
   "metadata": {},
   "outputs": [],
   "source": [
    "# ---------- Plot the errors over the training process ---------- #"
   ]
  },
  {
   "cell_type": "code",
   "execution_count": null,
   "metadata": {},
   "outputs": [],
   "source": [
    "plot_x = list(range(len(cost_history)))\n",
    "plot_y = cost_history\n",
    "plt.plot(plot_x, plot_y)\n",
    "plt.title(\"Errors over iterations\", color = 'blue')"
   ]
  },
  {
   "cell_type": "code",
   "execution_count": null,
   "metadata": {},
   "outputs": [],
   "source": [
    "if b > 0:\n",
    "    print(f'############ Final equation: y = {theta_history[-1]}x+{b} ############')\n",
    "else:\n",
    "    print(f'############ Final equation: y = {theta_history[-1]}x{b} ############')"
   ]
  },
  {
   "cell_type": "code",
   "execution_count": null,
   "metadata": {},
   "outputs": [],
   "source": []
  },
  {
   "cell_type": "code",
   "execution_count": null,
   "metadata": {},
   "outputs": [],
   "source": [
    "print('############ Lowest Cost for Model [y = 1.0353959032099576x] ############')\n",
    "print(5.009627415893268)\n",
    "\n",
    "if b > 0:\n",
    "    print(f'\\n\\n ############ Lowest Cost for Model [y={theta_history[-1]}x+{b}] ############ ')\n",
    "else:\n",
    "    print(f'\\n\\n ############ Lowest Cost for Model [y={theta_history[-1]}x{b}] ############ ')\n",
    "print(cost_history[-1])\n",
    "\n",
    "if cost_history[-1] < 5.009627415893268:\n",
    "    print('\\n\\nYour model won 😆!!!!')\n",
    "else:\n",
    "    print('\\n\\nOops... You lost 😭 Keep trying!!')"
   ]
  },
  {
   "cell_type": "code",
   "execution_count": null,
   "metadata": {},
   "outputs": [],
   "source": [
    "theta = theta_history[-1]\n",
    "b = b_history[-1]\n",
    "\n",
    "print(f'theta: {theta}, b = {b}')\n",
    "\n",
    "x_plot = np.linspace(0, 12, 140)\n",
    "y_plot = theta*x_plot + b\n",
    "\n",
    "\n",
    "plt.scatter(x_plot, y_plot, s=8, color='red')\n",
    "plt.scatter(x, y, color='blue')\n",
    "\n",
    "plt.title(\"Final Model\", color='red', fontdict = {'fontsize': 20})\n",
    "plt.show()"
   ]
  },
  {
   "cell_type": "code",
   "execution_count": null,
   "metadata": {},
   "outputs": [],
   "source": []
  }
 ],
 "metadata": {
  "kernelspec": {
   "display_name": "Python 3",
   "language": "python",
   "name": "python3"
  },
  "language_info": {
   "codemirror_mode": {
    "name": "ipython",
    "version": 3
   },
   "file_extension": ".py",
   "mimetype": "text/x-python",
   "name": "python",
   "nbconvert_exporter": "python",
   "pygments_lexer": "ipython3",
   "version": "3.8.5"
  }
 },
 "nbformat": 4,
 "nbformat_minor": 4
}
