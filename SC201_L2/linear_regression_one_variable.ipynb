{
 "cells": [
  {
   "cell_type": "code",
   "execution_count": 1,
   "metadata": {},
   "outputs": [],
   "source": [
    "#  File: linear_regression_one_varialbe\n",
    "#  ----------------------------\n",
    "#  This file shows students the fundamental concepts of \n",
    "#  machine learing:\n",
    "#      - loss function\n",
    "#      - cost function\n",
    "#      - linear regression\n",
    "#      - training process"
   ]
  },
  {
   "cell_type": "code",
   "execution_count": 2,
   "metadata": {},
   "outputs": [],
   "source": [
    "import matplotlib.pyplot as plt\n",
    "import numpy as np"
   ]
  },
  {
   "cell_type": "code",
   "execution_count": 3,
   "metadata": {},
   "outputs": [],
   "source": [
    "# This function computes the L2 loss which is \n",
    "# ----------------------------------------\n",
    "# [sum of (theta*x_i - y_i)^2] / (2*m) \n",
    "# ----------------------------------------\n",
    "# of data (x, y) to the line y = theta*x\n",
    "# \n",
    "# x: list, containing 21 data points\n",
    "# y: list, containing 21 data points\n",
    "# theta: float, slope of the line\n",
    "# return: float, the sum over all L2 losses of data points\n",
    "\n",
    "def cost_function(theta, x, y):\n",
    "     return sum( (theta*x[i]-y[i])**2 for i in range(len(x))) / (2*len(x)) \n",
    "    ###################\n",
    "    #                 #\n",
    "    #       TODO      #\n",
    "    #                 #\n",
    "    ###################    "
   ]
  },
  {
   "cell_type": "code",
   "execution_count": 4,
   "metadata": {},
   "outputs": [
    {
     "name": "stdout",
     "output_type": "stream",
     "text": [
      "2.3333333333333335\n"
     ]
    }
   ],
   "source": [
    "# You should see 2.3333333333333335\n",
    "print(cost_function(1.1, [0, 0, 0], [1, 2, 3]))"
   ]
  },
  {
   "cell_type": "code",
   "execution_count": 5,
   "metadata": {},
   "outputs": [],
   "source": [
    "# This function returns the partial derivative of L2 loss function relative to theta: \n",
    "# --------------------------------------\n",
    "# [sum of (theta*x_i - y_i) * (x_i)] / m\n",
    "# --------------------------------------\n",
    "# x: list, containing 21 data points\n",
    "# y: list, containing 21 data points\n",
    "# theta: float, slope of the line\n",
    "# return: flaot, the sum over dJ_dtheta over all data points\n",
    "\n",
    "def dJ_dtheta(theta, x, y):\n",
    "    return sum( (theta*x[i]-y[i])*x[i] for i in range(len(x)) ) / len(x) \n",
    "    ###################\n",
    "    #                 #\n",
    "    #       TODO      #\n",
    "    #                 #\n",
    "    ###################"
   ]
  },
  {
   "cell_type": "code",
   "execution_count": 6,
   "metadata": {},
   "outputs": [
    {
     "name": "stdout",
     "output_type": "stream",
     "text": [
      "0.46666666666666706\n"
     ]
    }
   ],
   "source": [
    "# You should see 0.46666666666666706\n",
    "print(dJ_dtheta(1.1, [1, 2, 3], [1, 2, 3]))"
   ]
  },
  {
   "cell_type": "code",
   "execution_count": 7,
   "metadata": {},
   "outputs": [],
   "source": [
    "# ---------- DO NOT EDIT THE CODE BELOW THIS LINE ---------- #"
   ]
  },
  {
   "cell_type": "code",
   "execution_count": 8,
   "metadata": {},
   "outputs": [],
   "source": [
    "x = [6.1101,5.5277,8.5186,7.0032,5.8598,8.3829,7.4764,8.5781,6.4862,5.0546,5.7107,10.164,5.734,8.4084,5.6407,5.3794,6.3654,5.1301,6.4296,7.0708,6.1891]"
   ]
  },
  {
   "cell_type": "code",
   "execution_count": 9,
   "metadata": {},
   "outputs": [],
   "source": [
    "y = [6.592,9.1302,13.662,11.854,6.8233,11.886,4.3483,12,6.5987,3.8166,3.2522,15.505,3.1551,7.2258,0.71618,3.5129,5.3048,0.56077,3.6518,5.3893,3.1386]"
   ]
  },
  {
   "cell_type": "code",
   "execution_count": 10,
   "metadata": {},
   "outputs": [],
   "source": [
    "# ---------- Showing your data ---------- #"
   ]
  },
  {
   "cell_type": "code",
   "execution_count": 11,
   "metadata": {},
   "outputs": [
    {
     "data": {
      "text/plain": [
       "(0.0, 30.0)"
      ]
     },
     "execution_count": 11,
     "metadata": {},
     "output_type": "execute_result"
    },
    {
     "data": {
      "image/png": "[encoded data removed]",
      "text/plain": [
       "<Figure size 432x288 with 1 Axes>"
      ]
     },
     "metadata": {
      "needs_background": "light"
     },
     "output_type": "display_data"
    }
   ],
   "source": [
    "plt.scatter(x, y)\n",
    "axes = plt.gca()\n",
    "axes.set_xlim([0,12])\n",
    "axes.set_ylim([0,30])"
   ]
  },
  {
   "cell_type": "code",
   "execution_count": 12,
   "metadata": {},
   "outputs": [],
   "source": [
    "# ---------- Initialize your theta ---------- #"
   ]
  },
  {
   "cell_type": "code",
   "execution_count": 13,
   "metadata": {},
   "outputs": [],
   "source": [
    "theta = 100"
   ]
  },
  {
   "cell_type": "code",
   "execution_count": 14,
   "metadata": {},
   "outputs": [],
   "source": [
    "# ---------- Initialize your alpha ---------- #"
   ]
  },
  {
   "cell_type": "code",
   "execution_count": 15,
   "metadata": {},
   "outputs": [],
   "source": [
    "# TODO: which value is appropriate for an ideal alpha?"
   ]
  },
  {
   "cell_type": "code",
   "execution_count": 16,
   "metadata": {},
   "outputs": [],
   "source": [
    "alpha = 0.01"
   ]
  },
  {
   "cell_type": "code",
   "execution_count": 17,
   "metadata": {},
   "outputs": [],
   "source": [
    "# -------------- Training process -------------- #"
   ]
  },
  {
   "cell_type": "code",
   "execution_count": 18,
   "metadata": {},
   "outputs": [],
   "source": [
    "theta_history = []\n",
    "cost_history = []\n",
    "for i in range(11):\n",
    "    ###################\n",
    "    #                 #\n",
    "    #       TODO      #\n",
    "    #                 #\n",
    "    ###################\n",
    "    theta_history.append(theta)\n",
    "    cost = cost_function(theta,x,y)\n",
    "    cost_history.append(cost)\n",
    "    # G.D.\n",
    "    theta = theta - alpha * dJ_dtheta(theta,x,y)\n",
    "    "
   ]
  },
  {
   "cell_type": "code",
   "execution_count": 19,
   "metadata": {},
   "outputs": [],
   "source": [
    "# ---------- Theta changes during training process ---------- #"
   ]
  },
  {
   "cell_type": "code",
   "execution_count": 20,
   "metadata": {},
   "outputs": [
    {
     "name": "stdout",
     "output_type": "stream",
     "text": [
      "[230383.5283744258, 64608.829654968664, 18121.514520546694, 5085.324528343663, 1429.6552555234923, 404.51540712955745, 117.04090373871531, 36.42596107573701, 13.819542405905484, 7.480144917126988, 5.702421470185685]\n"
     ]
    }
   ],
   "source": [
    "print(cost_history)"
   ]
  },
  {
   "cell_type": "code",
   "execution_count": 21,
   "metadata": {},
   "outputs": [
    {
     "name": "stdout",
     "output_type": "stream",
     "text": [
      "theta: 100\n"
     ]
    },
    {
     "data": {
      "image/png": "[encoded data removed]",
      "text/plain": [
       "<Figure size 432x288 with 1 Axes>"
      ]
     },
     "metadata": {
      "needs_background": "light"
     },
     "output_type": "display_data"
    }
   ],
   "source": [
    "theta = theta_history[0]\n",
    "\n",
    "print(f'theta: {theta}')\n",
    "\n",
    "x_plot = np.linspace(0, 12, 140)\n",
    "y_plot = theta*x_plot\n",
    "\n",
    "\n",
    "plt.scatter(x_plot, y_plot, s=8, color='red')\n",
    "plt.scatter(x, y, color='blue')\n",
    "\n",
    "plt.title(\"0 iterations\", color='red', fontdict = {'fontsize': 20})\n",
    "plt.show()"
   ]
  },
  {
   "cell_type": "code",
   "execution_count": 22,
   "metadata": {},
   "outputs": [
    {
     "name": "stdout",
     "output_type": "stream",
     "text": [
      "theta: 53.44223910163\n"
     ]
    },
    {
     "data": {
      "image/png": "[encoded data removed]",
      "text/plain": [
       "<Figure size 432x288 with 1 Axes>"
      ]
     },
     "metadata": {
      "needs_background": "light"
     },
     "output_type": "display_data"
    }
   ],
   "source": [
    "theta = theta_history[1]\n",
    "\n",
    "print(f'theta: {theta}')\n",
    "\n",
    "x_plot = np.linspace(0, 12, 140)\n",
    "y_plot = theta*x_plot\n",
    "\n",
    "\n",
    "plt.scatter(x_plot, y_plot, s=8, color='red')\n",
    "plt.scatter(x, y, color='blue')\n",
    "\n",
    "plt.title(\"1 iterations\", color='red', fontdict = {'fontsize': 20})\n",
    "plt.show()"
   ]
  },
  {
   "cell_type": "code",
   "execution_count": 23,
   "metadata": {},
   "outputs": [
    {
     "name": "stdout",
     "output_type": "stream",
     "text": [
      "theta: 28.78751231988007\n"
     ]
    },
    {
     "data": {
      "image/png": "[encoded data removed]",
      "text/plain": [
       "<Figure size 432x288 with 1 Axes>"
      ]
     },
     "metadata": {
      "needs_background": "light"
     },
     "output_type": "display_data"
    }
   ],
   "source": [
    "theta = theta_history[2]\n",
    "\n",
    "print(f'theta: {theta}')\n",
    "\n",
    "x_plot = np.linspace(0, 12, 140)\n",
    "y_plot = theta*x_plot\n",
    "\n",
    "\n",
    "plt.scatter(x_plot, y_plot, s=8, color='red')\n",
    "plt.scatter(x, y, color='blue')\n",
    "\n",
    "plt.title(\"2 iterations\", color='red', fontdict = {'fontsize': 20})\n",
    "plt.show()"
   ]
  },
  {
   "cell_type": "code",
   "execution_count": 24,
   "metadata": {},
   "outputs": [
    {
     "name": "stdout",
     "output_type": "stream",
     "text": [
      "theta: 15.731567597589558\n"
     ]
    },
    {
     "data": {
      "image/png": "[encoded data removed]",
      "text/plain": [
       "<Figure size 432x288 with 1 Axes>"
      ]
     },
     "metadata": {
      "needs_background": "light"
     },
     "output_type": "display_data"
    }
   ],
   "source": [
    "theta = theta_history[3]\n",
    "\n",
    "print(f'theta: {theta}')\n",
    "\n",
    "x_plot = np.linspace(0, 12, 140)\n",
    "y_plot = theta*x_plot\n",
    "\n",
    "\n",
    "plt.scatter(x_plot, y_plot, s=8, color='red')\n",
    "plt.scatter(x, y, color='blue')\n",
    "\n",
    "plt.title(\"3 iterations\", color='red', fontdict = {'fontsize': 20})\n",
    "plt.show()"
   ]
  },
  {
   "cell_type": "code",
   "execution_count": 25,
   "metadata": {},
   "outputs": [
    {
     "name": "stdout",
     "output_type": "stream",
     "text": [
      "theta: 8.817773983065196\n"
     ]
    },
    {
     "data": {
      "image/png": "[encoded data removed]",
      "text/plain": [
       "<Figure size 432x288 with 1 Axes>"
      ]
     },
     "metadata": {
      "needs_background": "light"
     },
     "output_type": "display_data"
    }
   ],
   "source": [
    "theta = theta_history[4]\n",
    "\n",
    "print(f'theta: {theta}')\n",
    "\n",
    "x_plot = np.linspace(0, 12, 140)\n",
    "y_plot = theta*x_plot\n",
    "\n",
    "\n",
    "plt.scatter(x_plot, y_plot, s=8, color='red')\n",
    "plt.scatter(x, y, color='blue')\n",
    "\n",
    "plt.title(\"4 iterations\", color='red', fontdict = {'fontsize': 20})\n",
    "plt.show()"
   ]
  },
  {
   "cell_type": "code",
   "execution_count": 26,
   "metadata": {},
   "outputs": [
    {
     "name": "stdout",
     "output_type": "stream",
     "text": [
      "theta: 5.1565649965850655\n"
     ]
    },
    {
     "data": {
      "image/png": "[encoded data removed]",
      "text/plain": [
       "<Figure size 432x288 with 1 Axes>"
      ]
     },
     "metadata": {
      "needs_background": "light"
     },
     "output_type": "display_data"
    }
   ],
   "source": [
    "theta = theta_history[5]\n",
    "\n",
    "print(f'theta: {theta}')\n",
    "\n",
    "x_plot = np.linspace(0, 12, 140)\n",
    "y_plot = theta*x_plot\n",
    "\n",
    "\n",
    "plt.scatter(x_plot, y_plot, s=8, color='red')\n",
    "plt.scatter(x, y, color='blue')\n",
    "\n",
    "plt.title(\"5 iterations\", color='red', fontdict = {'fontsize': 20})\n",
    "plt.show()"
   ]
  },
  {
   "cell_type": "code",
   "execution_count": 27,
   "metadata": {},
   "outputs": [
    {
     "name": "stdout",
     "output_type": "stream",
     "text": [
      "theta: 1.2070131683038428\n"
     ]
    },
    {
     "data": {
      "image/png": "[encoded data removed]",
      "text/plain": [
       "<Figure size 432x288 with 1 Axes>"
      ]
     },
     "metadata": {
      "needs_background": "light"
     },
     "output_type": "display_data"
    }
   ],
   "source": [
    "theta = theta_history[-1]\n",
    "\n",
    "print(f'theta: {theta}')\n",
    "\n",
    "x_plot = np.linspace(0, 12, 140)\n",
    "y_plot = theta*x_plot\n",
    "\n",
    "\n",
    "plt.scatter(x_plot, y_plot, s=8, color='red')\n",
    "plt.scatter(x, y, color='blue')\n",
    "\n",
    "plt.title(\"10 iterations\", color='red', fontdict = {'fontsize': 20})\n",
    "plt.show()"
   ]
  },
  {
   "cell_type": "code",
   "execution_count": 28,
   "metadata": {},
   "outputs": [],
   "source": [
    "# ---------- Plot the errors over the training process ---------- #"
   ]
  },
  {
   "cell_type": "code",
   "execution_count": 29,
   "metadata": {},
   "outputs": [
    {
     "data": {
      "text/plain": [
       "Text(0.5, 1.0, 'Costs over iterations')"
      ]
     },
     "execution_count": 29,
     "metadata": {},
     "output_type": "execute_result"
    },
    {
     "data": {
      "image/png": "[encoded data removed]",
      "text/plain": [
       "<Figure size 432x288 with 1 Axes>"
      ]
     },
     "metadata": {
      "needs_background": "light"
     },
     "output_type": "display_data"
    }
   ],
   "source": [
    "plot_x = list(range(len(cost_history)))\n",
    "plot_y = cost_history\n",
    "plt.plot(plot_x, plot_y)\n",
    "plt.title(\"Costs over iterations\", color = 'blue', fontdict = {'fontsize': 20})"
   ]
  },
  {
   "cell_type": "code",
   "execution_count": 30,
   "metadata": {},
   "outputs": [
    {
     "name": "stdout",
     "output_type": "stream",
     "text": [
      "####################################################\n",
      "###### Final theta learned: 1.2070131683038428 ######\n",
      "####################################################\n"
     ]
    }
   ],
   "source": [
    "print('####################################################')\n",
    "print(f'###### Final theta learned: {theta_history[-1]} ######')\n",
    "print('####################################################')\n"
   ]
  },
  {
   "cell_type": "code",
   "execution_count": null,
   "metadata": {},
   "outputs": [],
   "source": []
  }
 ],
 "metadata": {
  "kernelspec": {
   "display_name": "Python 3 (ipykernel)",
   "language": "python",
   "name": "python3"
  },
  "language_info": {
   "codemirror_mode": {
    "name": "ipython",
    "version": 3
   },
   "file_extension": ".py",
   "mimetype": "text/x-python",
   "name": "python",
   "nbconvert_exporter": "python",
   "pygments_lexer": "ipython3",
   "version": "3.9.7"
  }
 },
 "nbformat": 4,
 "nbformat_minor": 4
}
