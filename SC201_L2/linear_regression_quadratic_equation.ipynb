{
 "cells": [
  {
   "cell_type": "code",
   "execution_count": 1,
   "metadata": {},
   "outputs": [],
   "source": [
    "#  File: linear_regression_quadratic_equation.ipynb\n",
    "#  ----------------------------\n",
    "#  This file shows students the fundamental concepts of \n",
    "#  machine learing:\n",
    "#      - loss function\n",
    "#      - cost function\n",
    "#      - linear regression\n",
    "#      - polynomial function\n",
    "#      - training process"
   ]
  },
  {
   "cell_type": "code",
   "execution_count": 2,
   "metadata": {},
   "outputs": [],
   "source": [
    "import matplotlib.pyplot as plt\n",
    "import numpy as np"
   ]
  },
  {
   "cell_type": "code",
   "execution_count": 3,
   "metadata": {},
   "outputs": [],
   "source": [
    "# This function computes the L2 losses of all data with respect to the hypothesis function \n",
    "# y = theta_prime*x^2+theta*x+b\n",
    "# ----------------------------------------\n",
    "# ∑ [(theta_prime*x_i^2+theta*x_i+b - y_i)^2] / (2*m) \n",
    "# ----------------------------------------\n",
    "\n",
    "# theta_prime: float, parameter of x^2 of the line\n",
    "# theta: float, parameter of x of the line\n",
    "# b: float, parameter of the line\n",
    "# x: list, containing 21 data points\n",
    "# y: list, containing 21 data points\n",
    "# return: float, the sum over all L2 losses of data points\n",
    "\n",
    "def cost_function(theta_prime, theta, b, x, y):\n",
    "    return sum ( (theta_prime*(x[i]**2)+theta*x[i]+b-y[i])**2 for i in range(len(x))) / (2*len(x))\n",
    "    ###################\n",
    "    #                 #\n",
    "    #       TODO      #\n",
    "    #                 #\n",
    "    ###################  "
   ]
  },
  {
   "cell_type": "code",
   "execution_count": 4,
   "metadata": {},
   "outputs": [
    {
     "name": "stdout",
     "output_type": "stream",
     "text": [
      "2.4583333333333335\n"
     ]
    }
   ],
   "source": [
    "# You should see 2.4583333333333335  \n",
    "print(cost_function(0.5, 0.5, 0.5, [1, 2, 3], [1, 2, 3]))"
   ]
  },
  {
   "cell_type": "code",
   "execution_count": 5,
   "metadata": {},
   "outputs": [],
   "source": [
    "# This function computes the derivative of J with respect to theta_prime which is \n",
    "# ----------------------------------------\n",
    "# ∑ ((theta_prime*(x**2)+theta*x+b)-y)*(x**2) / m\n",
    "# ----------------------------------------\n",
    "\n",
    "# theta_prime: float, parameter of x^2 of the line\n",
    "# theta: float, parameter of x of the line\n",
    "# b: float, parameter of the line\n",
    "# x: list, containing 21 data points\n",
    "# y: list, containing 21 data points\n",
    "# return: float, the derivative of J with respect to theta_prime\n",
    "\n",
    "def dJ_dtheta_prime(theta_prime, theta, b, x, y):\n",
    "    return sum ( (theta_prime*(x[i]**2)+theta*x[i]+b-y[i])*(x[i]**2) for i in range(len(x))) / len(x)\n",
    "\n",
    "\n",
    "    ###################\n",
    "    #                 #\n",
    "    #       TODO      #\n",
    "    #                 #\n",
    "    ###################  "
   ]
  },
  {
   "cell_type": "code",
   "execution_count": 6,
   "metadata": {},
   "outputs": [
    {
     "name": "stdout",
     "output_type": "stream",
     "text": [
      "12.666666666666666\n"
     ]
    }
   ],
   "source": [
    "# You should see 12.666666666666666\n",
    "print(dJ_dtheta_prime(0.5, 0.5, 0.5, [1, 2, 3], [1, 2, 3]))"
   ]
  },
  {
   "cell_type": "code",
   "execution_count": 7,
   "metadata": {},
   "outputs": [],
   "source": [
    "# This function computes the derivative of J with respect to theta which is \n",
    "# ----------------------------------------\n",
    "# ∑ ((theta_prime*(x**2)+theta*x+b)-y)*(x) / m\n",
    "# ----------------------------------------\n",
    "\n",
    "# theta_prime: float, parameter of x^2 of the line\n",
    "# theta: float, parameter of x of the line\n",
    "# b: float, parameter of the line\n",
    "# x: list, containing 21 data points\n",
    "# y: list, containing 21 data points\n",
    "# return: float, the derivative of J with respect to theta\n",
    "\n",
    "def dJ_dtheta(theta_prime, theta, b, x, y):\n",
    "    return sum ( (theta_prime*(x[i]**2)+theta*x[i]+b-y[i])*(x[i]) for i in range(len(x))) / len(x)\n",
    "\n",
    "    ###################\n",
    "    #                 #\n",
    "    #       TODO      #\n",
    "    #                 #\n",
    "    ###################  "
   ]
  },
  {
   "cell_type": "code",
   "execution_count": 8,
   "metadata": {},
   "outputs": [
    {
     "name": "stdout",
     "output_type": "stream",
     "text": [
      "4.666666666666667\n"
     ]
    }
   ],
   "source": [
    "# You should see 4.666666666666667\n",
    "print(dJ_dtheta(0.5, 0.5, 0.5, [1, 2, 3], [1, 2, 3]))"
   ]
  },
  {
   "cell_type": "code",
   "execution_count": null,
   "metadata": {},
   "outputs": [],
   "source": []
  },
  {
   "cell_type": "code",
   "execution_count": 9,
   "metadata": {},
   "outputs": [],
   "source": [
    "# This function computes the derivative of J with respect to b which is \n",
    "# ----------------------------------------\n",
    "# ∑ ((theta_prime*(x**2)+theta*x+b)-y) / m\n",
    "# ----------------------------------------\n",
    "\n",
    "# theta_prime: float, parameter of x^2 of the line\n",
    "# theta: float, parameter of x of the line\n",
    "# b: float, parameter of the line\n",
    "# x: list, containing 21 data points\n",
    "# y: list, containing 21 data points\n",
    "# return: float, the derivative of J with respect to b\n",
    "\n",
    "def dJ_db(theta_prime, theta, b, x, y):\n",
    "    return sum ( (theta_prime*(x[i]**2)+theta*x[i]+b-y[i]) for i in range(len(x))) / len(x)\n",
    "    ###################\n",
    "    #                 #\n",
    "    #       TODO      #\n",
    "    #                 #\n",
    "    ###################  "
   ]
  },
  {
   "cell_type": "code",
   "execution_count": 10,
   "metadata": {},
   "outputs": [
    {
     "name": "stdout",
     "output_type": "stream",
     "text": [
      "1.8333333333333333\n"
     ]
    }
   ],
   "source": [
    "# You should see 1.8333333333333333\n",
    "print(dJ_db(0.5, 0.5, 0.5, [1, 2, 3], [1, 2, 3]))"
   ]
  },
  {
   "cell_type": "code",
   "execution_count": null,
   "metadata": {},
   "outputs": [],
   "source": []
  },
  {
   "cell_type": "code",
   "execution_count": 11,
   "metadata": {},
   "outputs": [],
   "source": [
    "# ---------- DO NOT EDIT THE CODE BELOW THIS LINE ---------- #"
   ]
  },
  {
   "cell_type": "code",
   "execution_count": 12,
   "metadata": {},
   "outputs": [],
   "source": [
    "x = [6.1101,5.5277,8.5186,7.0032,5.8598,8.3829,7.4764,8.5781,6.4862,5.0546,5.7107,10.164,5.734,8.4084,5.6407,5.3794,6.3654,5.1301,6.4296,7.0708,6.1891]"
   ]
  },
  {
   "cell_type": "code",
   "execution_count": 13,
   "metadata": {},
   "outputs": [],
   "source": [
    "y = [6.592,9.1302,13.662,11.854,6.8233,11.886,4.3483,12,6.5987,3.8166,3.2522,15.505,3.1551,7.2258,0.71618,3.5129,5.3048,0.56077,3.6518,5.3893,3.1386]"
   ]
  },
  {
   "cell_type": "code",
   "execution_count": 14,
   "metadata": {},
   "outputs": [],
   "source": [
    "# ---------- Showing your data ---------- #"
   ]
  },
  {
   "cell_type": "code",
   "execution_count": 15,
   "metadata": {},
   "outputs": [
    {
     "data": {
      "text/plain": [
       "(0.0, 30.0)"
      ]
     },
     "execution_count": 15,
     "metadata": {},
     "output_type": "execute_result"
    },
    {
     "data": {
      "image/png": "[encoded data removed]",
      "text/plain": [
       "<Figure size 432x288 with 1 Axes>"
      ]
     },
     "metadata": {
      "needs_background": "light"
     },
     "output_type": "display_data"
    }
   ],
   "source": [
    "plt.scatter(x, y)\n",
    "axes = plt.gca()\n",
    "axes.set_xlim([0,12])\n",
    "axes.set_ylim([0,30])"
   ]
  },
  {
   "cell_type": "code",
   "execution_count": 16,
   "metadata": {},
   "outputs": [],
   "source": [
    "# ---------- Initialize your theta ---------- #"
   ]
  },
  {
   "cell_type": "code",
   "execution_count": 17,
   "metadata": {},
   "outputs": [],
   "source": [
    "theta_prime = 0.5\n",
    "theta = -0.5\n",
    "b = - 0.5"
   ]
  },
  {
   "cell_type": "code",
   "execution_count": 18,
   "metadata": {},
   "outputs": [],
   "source": [
    "# ---------- Initialize your alpha ---------- #"
   ]
  },
  {
   "cell_type": "code",
   "execution_count": 19,
   "metadata": {},
   "outputs": [],
   "source": [
    "# TODO: which value is appropriate for an ideal alpha?"
   ]
  },
  {
   "cell_type": "code",
   "execution_count": 20,
   "metadata": {},
   "outputs": [],
   "source": [
    "alpha = 0.01"
   ]
  },
  {
   "cell_type": "code",
   "execution_count": 21,
   "metadata": {},
   "outputs": [],
   "source": [
    "# ---------- Training process ---------- #"
   ]
  },
  {
   "cell_type": "code",
   "execution_count": 22,
   "metadata": {},
   "outputs": [],
   "source": [
    "theta_prime_history = []\n",
    "theta_history = []\n",
    "b_history = []\n",
    "cost_history = []\n",
    "for i in range(11):\n",
    "    theta_prime_history.append(theta_prime)\n",
    "    theta_history.append(theta)\n",
    "    b_history.append(b)\n",
    "    \n",
    "    cost = cost_function(theta_prime,theta,b,x,y)\n",
    "    cost_history.append(cost)\n",
    "    \n",
    "    # G,D\n",
    "    theta_prime = theta_prime - alpha * dJ_dtheta_prime(theta_prime,theta,b,x,y)\n",
    "    theta = theta - alpha * dJ_dtheta(theta_prime,theta,b,x,y)\n",
    "    b = b - alpha * dJ_db(theta_prime,theta,b,x,y)\n",
    "    ###################\n",
    "    #                 #\n",
    "    #       TODO      #\n",
    "    #                 #\n",
    "    ###################  "
   ]
  },
  {
   "cell_type": "code",
   "execution_count": 23,
   "metadata": {},
   "outputs": [],
   "source": [
    "# ---------- Theta changes during training process ---------- #"
   ]
  },
  {
   "cell_type": "code",
   "execution_count": 24,
   "metadata": {},
   "outputs": [
    {
     "name": "stdout",
     "output_type": "stream",
     "text": [
      "[106.19124936108533, 19762.463352204395, 3659614.4789891383, 680314386.5367597, 126436646683.20047, 23498718310452.84, 4367318078189194.5, 8.116812447927515e+17, 1.5085377962379162e+20, 2.8036699114488086e+22, 5.210717949337309e+24]\n"
     ]
    }
   ],
   "source": [
    "print(cost_history)"
   ]
  },
  {
   "cell_type": "code",
   "execution_count": 25,
   "metadata": {},
   "outputs": [
    {
     "data": {
      "text/plain": [
       "Text(0.5, 1.0, 'Errors over iterations')"
      ]
     },
     "execution_count": 25,
     "metadata": {},
     "output_type": "execute_result"
    },
    {
     "data": {
      "image/png": "[encoded data removed]",
      "text/plain": [
       "<Figure size 432x288 with 1 Axes>"
      ]
     },
     "metadata": {
      "needs_background": "light"
     },
     "output_type": "display_data"
    }
   ],
   "source": [
    "cost_x = list(range(len(cost_history)))\n",
    "cost_y = cost_history\n",
    "plt.plot(cost_x, cost_y)\n",
    "plt.title(\"Errors over iterations\", color = 'blue')"
   ]
  },
  {
   "cell_type": "code",
   "execution_count": null,
   "metadata": {},
   "outputs": [],
   "source": []
  },
  {
   "cell_type": "code",
   "execution_count": 26,
   "metadata": {},
   "outputs": [],
   "source": [
    "# ----------------- Normalize Your Data ----------------- #"
   ]
  },
  {
   "cell_type": "code",
   "execution_count": 27,
   "metadata": {},
   "outputs": [],
   "source": [
    "x_max = max(x)\n",
    "x_min = min(x)\n",
    "x_norm = list((x[i]-x_min) / (x_max-x_min) for i in range(len(x)) )\n",
    "###################\n",
    "#                 #\n",
    "#     x_norm      #\n",
    "#                 #\n",
    "###################  "
   ]
  },
  {
   "cell_type": "code",
   "execution_count": 28,
   "metadata": {},
   "outputs": [],
   "source": [
    "y_max = max(y)\n",
    "y_min = min(y)\n",
    "y_norm = list((y[i]-y_min) / (y_max-y_min) for i in range(len(y)) )\n",
    "###################\n",
    "#                 #\n",
    "#     y_norm      #\n",
    "#                 #\n",
    "###################  "
   ]
  },
  {
   "cell_type": "code",
   "execution_count": 29,
   "metadata": {},
   "outputs": [],
   "source": [
    "# ---------- Showing your data ---------- #"
   ]
  },
  {
   "cell_type": "code",
   "execution_count": 30,
   "metadata": {},
   "outputs": [
    {
     "data": {
      "text/plain": [
       "(0.0, 1.8)"
      ]
     },
     "execution_count": 30,
     "metadata": {},
     "output_type": "execute_result"
    },
    {
     "data": {
      "image/png": "[encoded data removed]",
      "text/plain": [
       "<Figure size 432x288 with 1 Axes>"
      ]
     },
     "metadata": {
      "needs_background": "light"
     },
     "output_type": "display_data"
    }
   ],
   "source": [
    "plt.scatter(x_norm, y_norm)\n",
    "axes = plt.gca()\n",
    "axes.set_xlim([-1,1.5])\n",
    "axes.set_ylim([0,1.8])"
   ]
  },
  {
   "cell_type": "code",
   "execution_count": 31,
   "metadata": {},
   "outputs": [],
   "source": [
    "# ---------- Initialize your theta ---------- #"
   ]
  },
  {
   "cell_type": "code",
   "execution_count": 32,
   "metadata": {},
   "outputs": [],
   "source": [
    "theta_prime = 0.5\n",
    "theta = -0.5\n",
    "b = - 0.5"
   ]
  },
  {
   "cell_type": "code",
   "execution_count": 33,
   "metadata": {},
   "outputs": [],
   "source": [
    "# ---------- Initialize your alpha ---------- #"
   ]
  },
  {
   "cell_type": "code",
   "execution_count": 34,
   "metadata": {},
   "outputs": [],
   "source": [
    "alpha = 0.05"
   ]
  },
  {
   "cell_type": "code",
   "execution_count": 35,
   "metadata": {},
   "outputs": [],
   "source": [
    "# ---------- Training process ---------- #\n",
    "# ------- Using x_norm & y_norm -------- #"
   ]
  },
  {
   "cell_type": "code",
   "execution_count": 36,
   "metadata": {},
   "outputs": [],
   "source": [
    "theta_prime_history = []\n",
    "theta_history = []\n",
    "b_history = []\n",
    "cost_history = []\n",
    "for i in range(3000):\n",
    "    theta_prime_history.append(theta_prime)\n",
    "    theta_history.append(theta)\n",
    "    b_history.append(b)\n",
    "    \n",
    "    cost = cost_function(theta_prime,theta,b,x_norm,y_norm)\n",
    "    cost_history.append(cost)\n",
    "    \n",
    "    # G,D\n",
    "    theta_prime = theta_prime - alpha * dJ_dtheta_prime(theta_prime,theta,b,x_norm,y_norm)\n",
    "    theta = theta - alpha * dJ_dtheta(theta_prime,theta,b,x_norm,y_norm)\n",
    "    b = b - alpha * dJ_db(theta_prime,theta,b,x_norm,y_norm)\n",
    "    ###################\n",
    "    #                 #\n",
    "    #       TODO      #\n",
    "    #                 #\n",
    "    ###################  "
   ]
  },
  {
   "cell_type": "code",
   "execution_count": 37,
   "metadata": {},
   "outputs": [],
   "source": [
    "# ---------- Theta changes during training process ---------- #"
   ]
  },
  {
   "cell_type": "code",
   "execution_count": 38,
   "metadata": {},
   "outputs": [
    {
     "name": "stdout",
     "output_type": "stream",
     "text": [
      "[0.519911756444309, 0.46430336797664246, 0.4148769403012435, 0.3709444671202717, 0.33189452585685303, 0.29718375244235623, 0.2663292651468262, 0.2389019318016698, 0.21452038652522085, 0.19284571251400237, 0.1735767167510939, 0.156445730737559, 0.1412148786884919, 0.1276727611542108, 0.11563150782037718, 0.1049241583891281, 0.09540233501849597, 0.08693417386323203, 0.07940248687337594, 0.07270312821788913, 0.06674354255419093, 0.06144147490028805, 0.05672382411973798, 0.05252562403236264, 0.04878913794335726, 0.04546305396504157, 0.04250176991103206, 0.03986475779167635, 0.037515999049603406, 0.035423482660682445, 0.03355875910231297, 0.0318965439700037, 0.030414365715511843, 0.029092252595056153, 0.02791245446286779, 0.026859195531229216, 0.02591845464994555, 0.02507777004191999, 0.024326065772513745, 0.023653497533417896, 0.023051315591076232, 0.022511742989028638, 0.022027867306233295, 0.02159354446243702, 0.021203313229633584, 0.020852319257921928, 0.020536247556730215, 0.02025126249025994, 0.019993954450767862, 0.019761292466405872, 0.019550582083076463, 0.019359427933288837, 0.019185700470343618, 0.01902750640424206, 0.018883162427320875, 0.018751171863473286, 0.01863020391557226, 0.018519075221929936, 0.018416733464814, 0.01832224280264529, 0.01823477092292086, 0.01815357753549644, 0.01807800414593806, 0.0180074649664932, 0.017941438838086812, 0.017879462050837507, 0.01782112196311108, 0.017766051330256088, 0.01771392326405575, 0.017664446752718655, 0.01761736267904119, 0.017572440281315233, 0.01752947400772339, 0.017488280720445403, 0.01744869721057127, 0.017410577989245873, 0.017373793324317505, 0.017338227495182008, 0.01730377724155279, 0.017270350384587834, 0.01723786460120448, 0.017206246334545823, 0.017175429825457972, 0.017145356251522047, 0.017115972961681762, 0.017087232795838018, 0.01705909347996426, 0.017031517088347232, 0.017004469565491665, 0.016977920301057298, 0.016951841751934482, 0.01692620910621982, 0.016900999984436282, 0.016876194173859667, 0.016851773392273672, 0.016827721077884727, 0.016804022202491168, 0.016780663105324493, 0.01675763134526745, 0.016734915569408714, 0.016712505396121163, 0.016690391311051645, 0.01666856457458988, 0.016647017139542947, 0.016625741577883508, 0.016604731015565574, 0.016583979074513467, 0.016563479820988998, 0.016543227719630033, 0.016523217592532398, 0.0165034445828165, 0.016483904122182216, 0.01646459190201081, 0.016445503847621352, 0.016426636095332976, 0.016407984972022647, 0.016389546976903015, 0.016371318765274846, 0.016353297134036437, 0.01633547900875593, 0.016317861432134394, 0.016300441553706354, 0.01628321662064158, 0.01626618396952692, 0.016249341019020473, 0.01623268526328227, 0.016216214266096252, 0.01619992565560769, 0.016183817119608777, 0.01616788640131225, 0.01615213129555984, 0.016136549645418035, 0.01612113933911896, 0.016105898307308835, 0.016090824520570538, 0.016075915987190673, 0.016061170751144445, 0.016046586890275116, 0.016032162514646797, 0.01601789576505206, 0.016003784811657793, 0.015989827852774426, 0.015976023113735405, 0.015962368845875232, 0.01594886332559556, 0.015935504853510116, 0.015922291753660136, 0.01590922237279289, 0.01589629507969686, 0.015883508264587527, 0.015870860338538722, 0.015858349732954757, 0.015845974899079213, 0.01583373430753676, 0.015821626447904597, 0.01580964982831065, 0.015797802975055793, 0.01578608443225789, 0.01577449276151543, 0.01576302654158897, 0.015751684368098626, 0.015740464853236207, 0.015729366625490578, 0.01571838832938514, 0.015707528625226227, 0.015696786188861618, 0.015686159711448128, 0.015675647899227724, 0.015665249473311254, 0.01565496316946931, 0.01564478773792964, 0.01563472194318058, 0.015624764563780057, 0.015614914392169867, 0.015605170234494616, 0.01559553091042534, 0.015585995252987156, 0.01557656210839097, 0.015567230335868784, 0.015557998807512524, 0.015548866408116141, 0.015539832035020776, 0.015530894597962874, 0.01552205301892509, 0.015513306231989824, 0.015504653183195308, 0.015496092830394034, 0.015487624143113662, 0.015479246102419894, 0.015470957700781732, 0.0154627579419386, 0.015454645840769558, 0.01544662042316438, 0.015438680725896466, 0.015430825796497617, 0.015423054693134465, 0.015415366484486662, 0.01540776024962664, 0.01540023507790104, 0.015392790068813706, 0.015385424331910081, 0.015378136986663262, 0.015370927162361395, 0.015363793997996499, 0.015356736642154725, 0.01534975425290796, 0.01534284599770675, 0.015336011053274569, 0.015329248605503313, 0.015322557849350181, 0.01531593798873562, 0.015309388236442649, 0.015302907814017322, 0.015296495951670343, 0.015290151888179898, 0.015283874870795588, 0.015277664155143514, 0.015271519005132461, 0.015265438692861177, 0.015259422498526728, 0.015253469710333926, 0.01524757962440577, 0.015241751544694973, 0.015235984782896445, 0.015230278658360847, 0.015224632498009068, 0.015219045636247742, 0.01521351741488567, 0.015208047183051262, 0.015202634297110863, 0.015197278120588, 0.015191978024083638, 0.01518673338519721, 0.015181543588448638, 0.015176408025201205, 0.015171326093585286, 0.015166297198422959, 0.015161320751153442, 0.015156396169759426, 0.015151522878694175, 0.01514670030880944, 0.015141927897284281, 0.015137205087554575, 0.015132531329243373, 0.01512790607809202, 0.01512332879589209, 0.015118798950418014, 0.015114316015360526, 0.015109879470260773, 0.015105488800445327, 0.015101143496961698, 0.015096843056514745, 0.01509258698140375, 0.015088374779460153, 0.01508420596398602, 0.015080080053693197, 0.015075996572643165, 0.015071955050187495, 0.015067955020909043, 0.015063996024563767, 0.0150600776060232, 0.015056199315217558, 0.015052360707079488, 0.015048561341488449, 0.015044800783215708, 0.015041078601869925, 0.015037394371843406, 0.015033747672258901, 0.015030138086916996, 0.015026565204244108, 0.015023028617241085, 0.015019527923432323, 0.015016062724815477, 0.015012632627811759, 0.015009237243216728, 0.015005876186151682, 0.015002549076015578, 0.01499925553643745, 0.01499599519522942, 0.01499276768434019, 0.014989572639809042, 0.014986409701720401, 0.014983278514158831, 0.014980178725164616, 0.014977109986689755, 0.014974071954554509, 0.01497106428840438, 0.014968086651667595, 0.0149651387115131, 0.014962220138808944, 0.014959330608081144, 0.014956469797473112, 0.01495363738870534, 0.014950833067035733, 0.014948056521220245, 0.014945307443474009, 0.01494258552943289, 0.014939890478115484, 0.014937221991885472, 0.014934579776414518, 0.014931963540645419, 0.014929372996755822, 0.014926807860122219, 0.014924267849284417, 0.014921752685910405, 0.014919262094761515, 0.014916795803658126, 0.014914353543445604, 0.014911935047960725, 0.014909540053998397, 0.0149071683012788, 0.014904819532414874, 0.014902493492880156, 0.014900189930977002, 0.014897908597805145, 0.01489564924723062, 0.014893411635854942, 0.014891195522984861, 0.014889000670602115, 0.01488682684333383, 0.014884673808423057, 0.014882541335699733, 0.014880429197551913, 0.014878337168897336, 0.014876265027155307, 0.014874212552218932, 0.014872179526427573, 0.014870165734539694, 0.014868170963705976, 0.014866195003442698, 0.014864237645605492, 0.014862298684363314, 0.01486037791617274, 0.01485847513975254, 0.014856590156058537, 0.014854722768258768, 0.01485287278170885, 0.014851040003927705, 0.014849224244573528, 0.014847425315419951, 0.01484564303033261, 0.014843877205245822, 0.014842127658139677, 0.014840394209017187, 0.014838676679881938, 0.014836974894715728, 0.014835288679456696, 0.014833617861977495, 0.014831962272063817, 0.014830321741393152, 0.014828696103513728, 0.014827085193823761, 0.01482548884955088, 0.014823906909731743, 0.014822339215192019, 0.014820785608526444, 0.01481924593407918, 0.014817720037924378, 0.014816207767846928, 0.014814708973323472, 0.014813223505503584, 0.014811751217191183, 0.014810291962826167, 0.014808845598466177, 0.014807411981768678, 0.014805990971973139, 0.01480458242988347, 0.014803186217850624, 0.014801802199755406, 0.014800430240991475, 0.014799070208448522, 0.01479772197049565, 0.014796385396964932, 0.014795060359135146, 0.014793746729715692, 0.014792444382830696, 0.014791153194003306, 0.014789873040140117, 0.014788603799515803, 0.0147873453517579, 0.0147860975778318, 0.014784860360025864, 0.014783633581936708, 0.014782417128454692, 0.014781210885749487, 0.014780014741255933, 0.014778828583659915, 0.01477765230288448, 0.01477648579007609, 0.014775328937591028, 0.014774181638981925, 0.014773043788984504, 0.014771915283504407, 0.014770796019604186, 0.014769685895490456, 0.014768584810501181, 0.01476749266509311, 0.014766409360829277, 0.014765334800366833, 0.014764268887444754, 0.014763211526871878, 0.014762162624515022, 0.014761122087287207, 0.014760089823136025, 0.014759065741032161, 0.014758049750957994, 0.014757041763896372, 0.01475604169181948, 0.014755049447677875, 0.01475406494538956, 0.014753088099829266, 0.014752118826817817, 0.014751157043111616, 0.014750202666392225, 0.014749255615256094, 0.014748315809204413, 0.014747383168633013, 0.014746457614822472, 0.014745539069928244, 0.014744627456970935, 0.014743722699826732, 0.014742824723217831, 0.014741933452703068, 0.014741048814668629, 0.014740170736318833, 0.014739299145667033, 0.014738433971526663, 0.014737575143502298, 0.014736722591980899, 0.01473587624812308, 0.014735036043854545, 0.01473420191185754, 0.014733373785562524, 0.014732551599139745, 0.014731735287491094, 0.014730924786241974, 0.01473012003173319, 0.014729320961013079, 0.014728527511829586, 0.014727739622622535, 0.0147269572325159, 0.014726180281310201, 0.01472540870947503, 0.014724642458141566, 0.014723881469095233, 0.014723125684768447, 0.01472237504823339, 0.014721629503194953, 0.014720888993983631, 0.014720153465548632, 0.01471942286345097, 0.014718697133856665, 0.014717976223530039, 0.01471726007982703, 0.014716548650688657, 0.014715841884634479, 0.014715139730756187, 0.01471444213871124, 0.014713749058716566, 0.014713060441542377, 0.01471237623850597, 0.014711696401465675, 0.014711020882814837, 0.014710349635475871, 0.01470968261289438, 0.014709019769033342, 0.014708361058367335, 0.014707706435876888, 0.014707055857042836, 0.014706409277840771, 0.014705766654735502, 0.01470512794467569, 0.014704493105088388, 0.014703862093873801, 0.014703234869399959, 0.014702611390497566, 0.014701991616454833, 0.014701375507012393, 0.014700763022358272, 0.01470015412312293, 0.014699548770374342, 0.014698946925613092, 0.014698348550767636, 0.01469775360818949, 0.014697162060648533, 0.014696573871328398, 0.01469598900382181, 0.014695407422126106, 0.014694829090638665, 0.014694253974152532, 0.01469368203785198, 0.014693113247308154, 0.014692547568474781, 0.014691984967683954, 0.014691425411641862, 0.014690868867424664, 0.014690315302474393, 0.014689764684594844, 0.014689216981947613, 0.014688672163048044, 0.014688130196761377, 0.0146875910522988, 0.014687054699213617, 0.014686521107397457, 0.014685990247076517, 0.014685462088807824, 0.01468493660347556, 0.014684413762287447, 0.014683893536771117, 0.01468337589877058, 0.014682860820442704, 0.014682348274253734, 0.014681838232975848, 0.014681330669683745, 0.014680825557751322, 0.014680322870848325, 0.014679822582937038, 0.01467932466826905, 0.014678829101382063, 0.014678335857096663, 0.014677844910513231, 0.01467735623700876, 0.014676869812233869, 0.014676385612109669, 0.01467590361282484, 0.014675423790832582, 0.014674946122847749, 0.014674470585843865, 0.014673997157050303, 0.014673525813949425, 0.014673056534273754, 0.014672589296003222, 0.014672124077362382, 0.01467166085681773, 0.014671199613074977, 0.014670740325076431, 0.014670282971998313, 0.014669827533248213, 0.014669373988462475, 0.014668922317503693, 0.014668472500458142, 0.014668024517633337, 0.014667578349555569, 0.014667133976967445, 0.014666691380825507, 0.01466625054229786, 0.01466581144276179, 0.014665374063801468, 0.014664938387205626, 0.01466450439496529, 0.014664072069271566, 0.014663641392513346, 0.014663212347275186, 0.014662784916335056, 0.014662359082662255, 0.014661934829415236, 0.014661512139939523, 0.01466109099776566, 0.01466067138660708, 0.014660253290358149, 0.014659836693092112, 0.014659421579059105, 0.014659007932684204, 0.01465859573856548, 0.014658184981472049, 0.014657775646342217, 0.014657367718281548, 0.01465696118256104, 0.014656556024615278, 0.014656152230040595, 0.014655749784593301, 0.014655348674187895, 0.014654948884895306, 0.014654550402941138, 0.014654153214703971, 0.014653757306713663, 0.01465336266564966, 0.014652969278339303, 0.014652577131756247, 0.014652186213018777, 0.014651796509388235, 0.014651408008267405, 0.01465102069719896, 0.014650634563863901, 0.014650249596079993, 0.01464986578180032, 0.014649483109111659, 0.014649101566233119, 0.01464872114151458, 0.0146483418234353, 0.014647963600602424, 0.014647586461749592, 0.014647210395735546, 0.014646835391542696, 0.014646461438275783, 0.014646088525160488, 0.014645716641542144, 0.014645345776884321, 0.014644975920767578, 0.014644607062888134, 0.014644239193056595, 0.014643872301196667, 0.014643506377343917, 0.014643141411644512, 0.014642777394353998, 0.014642414315836069, 0.014642052166561411, 0.014641690937106438, 0.014641330618152183, 0.014640971200483101, 0.014640612674985924, 0.014640255032648538, 0.014639898264558833, 0.014639542361903598, 0.014639187315967462, 0.014638833118131725, 0.014638479759873377, 0.01463812723276394, 0.014637775528468514, 0.014637424638744631, 0.014637074555441327, 0.014636725270498066, 0.014636376775943734, 0.014636029063895675, 0.014635682126558677, 0.014635335956224032, 0.014634990545268548, 0.014634645886153591, 0.014634301971424174, 0.01463395879370802, 0.01463361634571462, 0.014633274620234334, 0.014632933610137514, 0.014632593308373572, 0.014632253707970156, 0.014631914802032226, 0.014631576583741212, 0.014631239046354192, 0.014630902183203013, 0.014630565987693476, 0.014630230453304508, 0.014629895573587367, 0.0146295613421648, 0.01462922775273029, 0.014628894799047245, 0.014628562474948214, 0.014628230774334151, 0.014627899691173622, 0.014627569219502048, 0.014627239353421018, 0.01462691008709747, 0.014626581414763026, 0.01462625333071326, 0.014625925829306961, 0.014625598904965485, 0.014625272552171966, 0.014624946765470746, 0.0146246215394666, 0.014624296868824094, 0.014623972748266953, 0.014623649172577349, 0.014623326136595297, 0.01462300363521796, 0.01462268166339909, 0.014622360216148303, 0.01462203928853055, 0.014621718875665435, 0.014621398972726643, 0.014621079574941314, 0.01462076067758947, 0.014620442276003424, 0.014620124365567191, 0.0146198069417159, 0.014619489999935271, 0.014619173535760968, 0.014618857544778152, 0.014618542022620851, 0.014618226964971438, 0.014617912367560123, 0.014617598226164335, 0.01461728453660833, 0.01461697129476254, 0.014616658496543136, 0.014616346137911507, 0.014616034214873739, 0.014615722723480115, 0.014615411659824665, 0.01461510102004462, 0.014614790800319985, 0.014614480996873035, 0.014614171605967832, 0.014613862623909811, 0.014613554047045256, 0.014613245871760888, 0.01461293809448341, 0.014612630711679049, 0.014612323719853123, 0.014612017115549594, 0.014611710895350693, 0.0146114050558764, 0.01461109959378411, 0.014610794505768169, 0.014610489788559474, 0.014610185438925076, 0.014609881453667775, 0.014609577829625721, 0.014609274563671984, 0.014608971652714246, 0.014608669093694352, 0.014608366883587933, 0.014608065019404051, 0.014607763498184842, 0.014607462317005094, 0.014607161472971949, 0.014606860963224484, 0.01460656078493339, 0.014606260935300633, 0.014605961411559055, 0.014605662210972072, 0.014605363330833338, 0.014605064768466368, 0.014604766521224258, 0.01460446858648931, 0.014604170961672732, 0.014603873644214308, 0.014603576631582111, 0.014603279921272107, 0.014602983510807934, 0.014602687397740566, 0.01460239157964797, 0.014602096054134872, 0.01460180081883238, 0.014601505871397776, 0.014601211209514176, 0.014600916830890213, 0.014600622733259839, 0.014600328914381965, 0.014600035372040224, 0.014599742104042685, 0.014599449108221566, 0.014599156382432992, 0.014598863924556723, 0.01459857173249587, 0.014598279804176667, 0.014597988137548172, 0.014597696730582067, 0.014597405581272356, 0.014597114687635148, 0.014596824047708396, 0.014596533659551669, 0.014596243521245883, 0.014595953630893096, 0.01459566398661625, 0.014595374586558959, 0.014595085428885265, 0.014594796511779393, 0.014594507833445573, 0.014594219392107765, 0.014593931186009493, 0.014593643213413585, 0.014593355472601962, 0.014593067961875457, 0.014592780679553573, 0.014592493623974275, 0.014592206793493823, 0.014591920186486524, 0.014591633801344534, 0.014591347636477705, 0.014591061690313333, 0.014590775961296003, 0.014590490447887369, 0.01459020514856597, 0.014589920061827074, 0.014589635186182445, 0.01458935052016018, 0.014589066062304553, 0.01458878181117577, 0.014588497765349867, 0.014588213923418464, 0.014587930283988668, 0.014587646845682827, 0.0145873636071384, 0.01458708056700778, 0.014586797723958137, 0.014586515076671226, 0.014586232623843263, 0.014585950364184747, 0.01458566829642027, 0.01458538641928843, 0.014585104731541591, 0.014584823231945805, 0.014584541919280632, 0.014584260792338948, 0.01458397984992687, 0.014583699090863555, 0.014583418513981065, 0.014583138118124268, 0.014582857902150612, 0.014582577864930073, 0.014582298005344935, 0.014582018322289714, 0.014581738814671005, 0.014581459481407325, 0.014581180321429016, 0.014580901333678084, 0.014580622517108075, 0.014580343870683955, 0.014580065393382, 0.014579787084189626, 0.014579508942105293, 0.014579230966138381, 0.014578953155309073, 0.01457867550864821, 0.01457839802519721, 0.01457812070400791, 0.014577843544142483, 0.014577566544673301, 0.01457728970468284, 0.014577013023263556, 0.014576736499517764, 0.014576460132557553, 0.014576183921504657, 0.014575907865490354, 0.014575631963655375, 0.014575356215149757, 0.014575080619132794, 0.014574805174772892, 0.014574529881247486, 0.014574254737742936, 0.014573979743454419, 0.01457370489758586, 0.014573430199349788, 0.014573155647967287, 0.014572881242667868, 0.014572606982689394, 0.014572332867277969, 0.014572058895687877, 0.014571785067181445, 0.014571511381029007, 0.01457123783650876, 0.014570964432906739, 0.014570691169516651, 0.014570418045639869, 0.014570145060585307, 0.014569872213669309, 0.014569599504215639, 0.014569326931555335, 0.014569054495026648, 0.014568782193974969, 0.01456851002775274, 0.014568237995719395, 0.014567966097241244, 0.014567694331691422, 0.014567422698449831, 0.014567151196903036, 0.014566879826444171, 0.014566608586472928, 0.014566337476395443, 0.014566066495624216, 0.014565795643578057, 0.01456552491968203, 0.014565254323367355, 0.01456498385407135, 0.014564713511237374, 0.01456444329431474, 0.01456417320275866, 0.014563903236030185, 0.014563633393596129, 0.014563363674929016, 0.014563094079506986, 0.014562824606813799, 0.014562555256338676, 0.014562286027576336, 0.01456201692002688, 0.014561747933195715, 0.014561479066593557, 0.014561210319736326, 0.014560941692145073, 0.014560673183345987, 0.014560404792870272, 0.014560136520254124, 0.014559868365038687, 0.014559600326769959, 0.014559332404998761, 0.014559064599280688, 0.014558796909176056, 0.014558529334249826, 0.014558261874071594, 0.014557994528215485, 0.014557727296260163, 0.01455746017778872, 0.01455719317238868, 0.014556926279651909, 0.014556659499174594, 0.014556392830557187, 0.014556126273404343, 0.014555859827324899, 0.014555593491931801, 0.014555327266842085, 0.014555061151676799, 0.014554795146061, 0.014554529249623664, 0.01455426346199768, 0.014553997782819784, 0.014553732211730518, 0.014553466748374206, 0.014553201392398896, 0.014552936143456305, 0.014552671001201813, 0.014552405965294394, 0.014552141035396593, 0.014551876211174467, 0.01455161149229757, 0.014551346878438898, 0.014551082369274845, 0.014550817964485183, 0.014550553663753022, 0.014550289466764751, 0.01455002537321003, 0.01454976138278174, 0.014549497495175938, 0.014549233710091838, 0.014548970027231775, 0.014548706446301156, 0.014548442967008442, 0.014548179589065088, 0.01454791631218556, 0.014547653136087232, 0.014547390060490434, 0.014547127085118334, 0.01454686420969697, 0.014546601433955203, 0.014546338757624672, 0.014546076180439751, 0.01454581370213758, 0.014545551322457953, 0.014545289041143338, 0.014545026857938853, 0.014544764772592209, 0.014544502784853678, 0.01454424089447611, 0.014543979101214846, 0.014543717404827723, 0.014543455805075049, 0.014543194301719565, 0.014542932894526421, 0.014542671583263132, 0.014542410367699604, 0.014542149247608018, 0.014541888222762906, 0.014541627292941067, 0.014541366457921518, 0.01454110571748556, 0.014540845071416638, 0.0145405845195004, 0.014540324061524654, 0.014540063697279343, 0.014539803426556478, 0.014539543249150194, 0.014539283164856653, 0.014539023173474074, 0.014538763274802675, 0.014538503468644675, 0.014538243754804265, 0.014537984133087566, 0.01453772460330263, 0.014537465165259424, 0.014537205818769777, 0.014536946563647402, 0.014536687399707825, 0.014536428326768432, 0.014536169344648377, 0.014535910453168596, 0.014535651652151784, 0.014535392941422405, 0.014535134320806603, 0.014534875790132261, 0.0145346173492289, 0.014534358997927765, 0.014534100736061697, 0.014533842563465179, 0.014533584479974316, 0.014533326485426786, 0.014533068579661851, 0.014532810762520328, 0.014532553033844571, 0.014532295393478454, 0.01453203784126735, 0.014531780377058151, 0.014531523000699174, 0.014531265712040229, 0.014531008510932534, 0.014530751397228764, 0.014530494370782973, 0.014530237431450614, 0.014529980579088523, 0.014529723813554888, 0.014529467134709246, 0.014529210542412458, 0.014528954036526725, 0.014528697616915512, 0.014528441283443596, 0.014528185035977017, 0.014527928874383075, 0.01452767279853032, 0.01452741680828852, 0.014527160903528666, 0.01452690508412296, 0.014526649349944774, 0.014526393700868667, 0.014526138136770369, 0.014525882657526759, 0.014525627263015827, 0.014525371953116727, 0.0145251167277097, 0.014524861586676091, 0.01452460652989834, 0.014524351557259957, 0.014524096668645506, 0.014523841863940637, 0.014523587143031985, 0.01452333250580727, 0.014523077952155197, 0.014522823481965482, 0.014522569095128838, 0.014522314791536954, 0.014522060571082518, 0.014521806433659131, 0.014521552379161404, 0.014521298407484845, 0.014521044518525898, 0.01452079071218195, 0.014520536988351273, 0.014520283346933057, 0.014520029787827352, 0.014519776310935125, 0.014519522916158193, 0.014519269603399231, 0.014519016372561776, 0.014518763223550184, 0.014518510156269673, 0.01451825717062625, 0.014518004266526777, 0.014517751443878875, 0.014517498702590993, 0.01451724604257235, 0.014516993463732948, 0.014516740965983559, 0.014516488549235715, 0.014516236213401701, 0.01451598395839455, 0.014515731784127997, 0.014515479690516567, 0.01451522767747545, 0.01451497574492057, 0.014514723892768552, 0.01451447212093672, 0.014514220429343062, 0.014513968817906295, 0.014513717286545753, 0.014513465835181477, 0.014513214463734138, 0.014512963172125078, 0.01451271196027627, 0.014512460828110332, 0.014512209775550495, 0.014511958802520628, 0.014511707908945218, 0.014511457094749334, 0.014511206359858671, 0.01451095570419952, 0.014510705127698758, 0.014510454630283817, 0.014510204211882741, 0.014509953872424134, 0.014509703611837132, 0.014509453430051479, 0.01450920332699742, 0.014508953302605786, 0.014508703356807899, 0.01450845348953567, 0.014508203700721483, 0.01450795399029828, 0.014507704358199494, 0.014507454804359084, 0.014507205328711496, 0.014506955931191692, 0.014506706611735103, 0.01450645737027767, 0.014506208206755805, 0.014505959121106384, 0.01450571011326678, 0.01450546118317481, 0.014505212330768761, 0.014504963555987365, 0.014504714858769823, 0.014504466239055764, 0.014504217696785266, 0.014503969231898842, 0.014503720844337417, 0.014503472534042374, 0.0145032243009555, 0.014502976145018987, 0.01450272806617547, 0.01450248006436796, 0.014502232139539887, 0.01450198429163507, 0.014501736520597738, 0.014501488826372488, 0.01450124120890432, 0.014500993668138607, 0.01450074620402109, 0.014500498816497908, 0.014500251505515543, 0.014500004271020859, 0.014499757112961061, 0.014499510031283733, 0.014499263025936798, 0.01449901609686852, 0.014498769244027538, 0.014498522467362792, 0.014498275766823584, 0.014498029142359547, 0.01449778259392064, 0.014497536121457159, 0.014497289724919685, 0.014497043404259174, 0.014496797159426852, 0.01449655099037428, 0.01449630489705332, 0.014496058879416138, 0.014495812937415208, 0.014495567071003296, 0.014495321280133467, 0.014495075564759078, 0.01449482992483376, 0.014494584360311459, 0.014494338871146381, 0.014494093457293012, 0.014493848118706121, 0.014493602855340753, 0.014493357667152216, 0.014493112554096077, 0.014492867516128195, 0.014492622553204663, 0.014492377665281839, 0.014492132852316349, 0.01449188811426505, 0.014491643451085072, 0.014491398862733778, 0.01449115434916878, 0.01449090991034793, 0.014490665546229313, 0.01449042125677127, 0.014490177041932355, 0.014489932901671361, 0.01448968883594732, 0.014489444844719469, 0.01448920092794729, 0.014488957085590467, 0.01448871331760892, 0.014488469623962778, 0.014488226004612385, 0.014487982459518304, 0.014487738988641276, 0.014487495591942299, 0.014487252269382536, 0.014487009020923374, 0.01448676584652638, 0.014486522746153347, 0.014486279719766248, 0.014486036767327248, 0.014485793888798707, 0.014485551084143178, 0.01448530835332339, 0.014485065696302283, 0.014484823113042953, 0.014484580603508686, 0.01448433816766296, 0.014484095805469407, 0.014483853516891864, 0.014483611301894316, 0.014483369160440933, 0.014483127092496061, 0.014482885098024185, 0.01448264317699, 0.014482401329358331, 0.014482159555094172, 0.014481917854162696, 0.014481676226529214, 0.014481434672159193, 0.014481193191018286, 0.014480951783072273, 0.014480710448287087, 0.01448046918662882, 0.01448022799806371, 0.014479986882558152, 0.01447974584007867, 0.014479504870591943, 0.014479263974064785, 0.014479023150464166, 0.01447878239975718, 0.014478541721911061, 0.014478301116893192, 0.01447806058467108, 0.014477820125212374, 0.014477579738484844, 0.014477339424456392, 0.014477099183095067, 0.014476859014369028, 0.014476618918246562, 0.014476378894696086, 0.01447613894368616, 0.014475899065185416, 0.01447565925916266, 0.014475419525586786, 0.014475179864426816, 0.014474940275651896, 0.014474700759231277, 0.014474461315134341, 0.014474221943330558, 0.014473982643789542, 0.014473743416480984, 0.01447350426137472, 0.014473265178440664, 0.01447302616764885, 0.014472787228969436, 0.014472548362372646, 0.014472309567828853, 0.014472070845308499, 0.014471832194782144, 0.014471593616220453, 0.01447135510959417, 0.014471116674874149, 0.014470878312031362, 0.014470640021036848, 0.014470401801861755, 0.014470163654477322, 0.014469925578854893, 0.01446968757496588, 0.01446944964278181, 0.014469211782274298, 0.014468973993415034, 0.014468736276175816, 0.014468498630528506, 0.014468261056445077, 0.014468023553897582, 0.01446778612285815, 0.014467548763298992, 0.014467311475192427, 0.014467074258510819, 0.014466837113226647, 0.014466600039312449, 0.014466363036740856, 0.014466126105484573, 0.014465889245516384, 0.01446565245680915, 0.014465415739335796, 0.014465179093069356, 0.0144649425179829, 0.014464706014049599, 0.014464469581242676, 0.014464233219535463, 0.014463996928901313, 0.014463760709313697, 0.014463524560746122, 0.014463288483172182, 0.014463052476565538, 0.014462816540899917, 0.014462580676149129, 0.014462344882287011, 0.014462109159287504, 0.0144618735071246, 0.01446163792577236, 0.014461402415204898, 0.014461166975396405, 0.01446093160632113, 0.014460696307953377, 0.01446046108026753, 0.014460225923238005, 0.014459990836839309, 0.014459755821045982, 0.014459520875832651, 0.014459286001173965, 0.014459051197044664, 0.014458816463419535, 0.014458581800273413, 0.014458347207581188, 0.01445811268531782, 0.014457878233458319, 0.014457643851977741, 0.014457409540851198, 0.014457175300053865, 0.01445694112956096, 0.014456707029347756, 0.014456472999389574, 0.014456239039661796, 0.014456005150139834, 0.014455771330799175, 0.01445553758161535, 0.014455303902563924, 0.01445507029362052, 0.014454836754760806, 0.014454603285960514, 0.014454369887195406, 0.014454136558441275, 0.014453903299674001, 0.01445367011086947, 0.014453436992003648, 0.014453203943052524, 0.014452970963992128, 0.01445273805479855, 0.014452505215447917, 0.014452272445916384, 0.01445203974618018, 0.014451807116215545, 0.01445157455599878, 0.01445134206550622, 0.01445110964471423, 0.01445087729359925, 0.014450645012137725, 0.014450412800306154, 0.014450180658081077, 0.01444994858543906, 0.014449716582356734, 0.014449484648810731, 0.014449252784777752, 0.014449020990234526, 0.014448789265157816, 0.01444855760952443, 0.014448326023311189, 0.014448094506494983, 0.014447863059052712, 0.014447631680961323, 0.014447400372197806, 0.01444716913273916, 0.014446937962562441, 0.014446706861644731, 0.014446475829963149, 0.01444624486749484, 0.01444601397421699, 0.014445783150106816, 0.01444555239514157, 0.014445321709298515, 0.014445091092554981, 0.0144448605448883, 0.014444630066275851, 0.014444399656695039, 0.014444169316123304, 0.014443939044538103, 0.014443708841916944, 0.014443478708237346, 0.014443248643476866, 0.014443018647613083, 0.014442788720623625, 0.014442558862486118, 0.014442329073178247, 0.014442099352677701, 0.014441869700962213, 0.014441640118009535, 0.014441410603797453, 0.014441181158303769, 0.014440951781506318, 0.014440722473382975, 0.014440493233911614, 0.014440264063070161, 0.014440034960836552, 0.014439805927188751, 0.014439576962104763, 0.014439348065562584, 0.014439119237540274, 0.014438890478015897, 0.014438661786967547, 0.01443843316437333, 0.014438204610211395, 0.014437976124459902, 0.01443774770709704, 0.014437519358101022, 0.014437291077450076, 0.014437062865122464, 0.014436834721096478, 0.014436606645350403, 0.014436378637862582, 0.01443615069861134, 0.014435922827575068, 0.01443569502473215, 0.014435467290061002, 0.014435239623540055, 0.014435012025147766, 0.014434784494862615, 0.014434557032663118, 0.014434329638527765, 0.014434102312435108, 0.014433875054363702, 0.014433647864292142, 0.01443342074219903, 0.01443319368806297, 0.014432966701862619, 0.014432739783576624, 0.01443251293318367, 0.014432286150662464, 0.014432059435991714, 0.014431832789150164, 0.014431606210116563, 0.014431379698869698, 0.014431153255388351, 0.014430926879651338, 0.014430700571637494, 0.014430474331325655, 0.014430248158694698, 0.014430022053723504, 0.014429796016390968, 0.014429570046676023, 0.01442934414455759, 0.01442911831001463, 0.01442889254302612, 0.014428666843571034, 0.014428441211628387, 0.014428215647177198, 0.014427990150196498, 0.014427764720665351, 0.014427539358562821, 0.014427314063868001, 0.014427088836559984, 0.014426863676617899, 0.014426638584020879, 0.01442641355874807, 0.01442618860077864, 0.01442596371009177, 0.014425738886666654, 0.014425514130482507, 0.01442528944151856, 0.014425064819754049, 0.01442484026516824, 0.014424615777740391, 0.014424391357449799, 0.01442416700427576, 0.014423942718197596, 0.014423718499194634, 0.014423494347246216, 0.014423270262331695, 0.01442304624443046, 0.014422822293521884, 0.014422598409585374, 0.014422374592600347, 0.014422150842546213, 0.01442192715940244, 0.014421703543148463, 0.014421479993763756, 0.014421256511227805, 0.0144210330955201, 0.014420809746620153, 0.014420586464507482, 0.014420363249161633, 0.014420140100562124, 0.014419917018688545, 0.014419694003520455, 0.014419471055037445, 0.014419248173219098, 0.014419025358045042, 0.014418802609494892, 0.014418579927548277, 0.014418357312184861, 0.014418134763384282, 0.014417912281126226, 0.014417689865390373, 0.014417467516156413, 0.01441724523340406, 0.014417023017113027, 0.014416800867263052, 0.014416578783833865, 0.014416356766805229, 0.014416134816156905, 0.014415912931868669, 0.014415691113920312, 0.014415469362291631, 0.014415247676962435, 0.014415026057912547, 0.014414804505121807, 0.01441458301857004, 0.014414361598237113, 0.014414140244102893, 0.014413918956147256, 0.014413697734350075, 0.014413476578691261, 0.014413255489150718, 0.014413034465708368, 0.014412813508344138, 0.014412592617037964, 0.0144123717917698, 0.014412151032519598, 0.014411930339267343, 0.014411709711993006, 0.014411489150676587, 0.01441126865529807, 0.014411048225837478, 0.014410827862274838, 0.014410607564590162, 0.014410387332763508, 0.014410167166774922, 0.014409947066604473, 0.014409727032232214, 0.01440950706363823, 0.014409287160802616, 0.014409067323705478, 0.014408847552326905, 0.014408627846647037, 0.014408408206645983, 0.014408188632303896, 0.014407969123600912, 0.014407749680517182, 0.014407530303032887, 0.014407310991128196, 0.014407091744783284, 0.014406872563978344, 0.014406653448693598, 0.014406434398909228, 0.014406215414605477, 0.014405996495762559, 0.01440577764236072, 0.014405558854380203, 0.014405340131801265, 0.014405121474604168, 0.014404902882769188, 0.014404684356276596, 0.014404465895106702, 0.014404247499239797, 0.014404029168656175, 0.01440381090333617, 0.014403592703260096, 0.014403374568408294, 0.014403156498761092, 0.014402938494298861, 0.01440272055500195, 0.014402502680850712, 0.014402284871825549, 0.014402067127906811, 0.014401849449074926, 0.014401631835310267, 0.014401414286593259, 0.014401196802904307, 0.01440097938422384, 0.014400762030532286, 0.014400544741810097, 0.014400327518037706, 0.014400110359195587, 0.014399893265264188, 0.014399676236223994, 0.014399459272055474, 0.014399242372739127, 0.014399025538255446, 0.014398808768584934, 0.014398592063708098, 0.014398375423605468, 0.014398158848257559, 0.01439794233764492, 0.014397725891748078, 0.014397509510547598, 0.014397293194024026, 0.01439707694215794, 0.014396860754929899, 0.014396644632320498, 0.014396428574310317, 0.014396212580879945, 0.014395996652010003, 0.014395780787681091, 0.014395564987873826, 0.014395349252568825, 0.014395133581746742, 0.014394917975388218, 0.014394702433473868, 0.014394486955984387, 0.014394271542900405, 0.014394056194202608, 0.014393840909871674, 0.014393625689888279, 0.014393410534233118, 0.014393195442886884, 0.014392980415830295, 0.014392765453044055, 0.014392550554508884, 0.014392335720205514, 0.014392120950114676, 0.014391906244217097, 0.01439169160249355, 0.01439147702492477, 0.014391262511491537, 0.014391048062174606, 0.014390833676954751, 0.014390619355812767, 0.01439040509872943, 0.014390190905685546, 0.014389976776661931, 0.014389762711639371, 0.014389548710598696, 0.014389334773520723, 0.01438912090038629, 0.014388907091176243, 0.014388693345871414, 0.014388479664452645, 0.014388266046900815, 0.01438805249319678, 0.014387839003321407, 0.014387625577255586, 0.014387412214980192, 0.014387198916476121, 0.014386985681724267, 0.014386772510705541, 0.014386559403400853, 0.014386346359791115, 0.014386133379857259, 0.014385920463580212, 0.014385707610940919, 0.014385494821920317, 0.014385282096499358, 0.014385069434658998, 0.014384856836380203, 0.01438464430164395, 0.014384431830431208, 0.014384219422722968, 0.014384007078500209, 0.014383794797743937, 0.014383582580435145, 0.014383370426554853, 0.014383158336084072, 0.014382946309003827, 0.014382734345295134, 0.014382522444939047, 0.014382310607916594, 0.014382098834208832, 0.014381887123796799, 0.014381675476661568, 0.014381463892784203, 0.014381252372145778, 0.014381040914727375, 0.014380829520510063, 0.014380618189474947, 0.014380406921603129, 0.0143801957168757, 0.014379984575273785, 0.014379773496778492, 0.014379562481370936, 0.014379351529032268, 0.014379140639743599, 0.014378929813486083, 0.014378719050240867, 0.014378508349989102, 0.014378297712711954, 0.014378087138390581, 0.014377876627006155, 0.014377666178539856, 0.014377455792972872, 0.01437724547028639, 0.01437703521046161, 0.01437682501347972, 0.01437661487932195, 0.014376404807969503, 0.014376194799403604, 0.014375984853605476, 0.014375774970556351, 0.014375565150237473, 0.014375355392630079, 0.01437514569771543, 0.014374936065474773, 0.014374726495889384, 0.01437451698894052, 0.01437430754460946, 0.014374098162877475, 0.014373888843725868, 0.014373679587135924, 0.014373470393088941, 0.014373261261566225, 0.01437305219254909, 0.01437284318601885, 0.014372634241956825, 0.01437242536034434, 0.014372216541162738, 0.014372007784393351, 0.014371799090017531, 0.014371590458016628, 0.014371381888372003, 0.014371173381065014, 0.014370964936077032, 0.014370756553389439, 0.01437054823298361, 0.014370339974840924, 0.014370131778942788, 0.014369923645270592, 0.014369715573805746, 0.014369507564529654, 0.014369299617423744, 0.014369091732469424, 0.014368883909648128, 0.014368676148941288, 0.014368468450330348, 0.014368260813796743, 0.014368053239321943, 0.014367845726887379, 0.014367638276474531, 0.014367430888064863, 0.01436722356163985, 0.014367016297180967, 0.014366809094669706, 0.014366601954087552, 0.014366394875416006, 0.014366187858636565, 0.014365980903730743, 0.014365774010680055, 0.014365567179466018, 0.014365360410070152, 0.014365153702474001, 0.014364947056659092, 0.014364740472606961, 0.014364533950299175, 0.014364327489717272, 0.014364121090842816, 0.014363914753657376, 0.014363708478142521, 0.014363502264279822, 0.01436329611205087, 0.014363090021437245, 0.014362883992420547, 0.014362678024982364, 0.014362472119104311, 0.014362266274767999, 0.014362060491955039, 0.01436185477064705, 0.014361649110825664, 0.014361443512472517, 0.014361237975569239, 0.014361032500097484, 0.014360827086038887, 0.014360621733375116, 0.014360416442087822, 0.014360211212158686, 0.014360006043569365, 0.01435980093630154, 0.014359595890336899, 0.014359390905657124, 0.014359185982243915, 0.014358981120078966, 0.014358776319143991, 0.01435857157942069, 0.014358366900890793, 0.014358162283536004, 0.014357957727338075, 0.014357753232278706, 0.014357548798339654, 0.014357344425502672, 0.0143571401137495, 0.01435693586306189, 0.014356731673421604, 0.014356527544810413, 0.014356323477210085, 0.014356119470602396, 0.014355915524969131, 0.014355711640292082, 0.014355507816553032, 0.014355304053733788, 0.01435510035181615, 0.014354896710781936, 0.014354693130612953, 0.014354489611291023, 0.01435428615279798, 0.014354082755115646, 0.01435387941822587, 0.014353676142110482, 0.01435347292675134, 0.014353269772130296, 0.014353066678229205, 0.014352863645029931, 0.014352660672514355, 0.01435245776066434, 0.014352254909461782, 0.014352052118888549, 0.014351849388926545, 0.014351646719557661, 0.014351444110763814, 0.014351241562526889, 0.014351039074828816, 0.014350836647651516, 0.014350634280976911, 0.01435043197478692, 0.014350229729063493, 0.01435002754378856, 0.014349825418944069, 0.014349623354511985, 0.014349421350474248, 0.014349219406812821, 0.014349017523509686, 0.014348815700546802, 0.014348613937906162, 0.014348412235569733, 0.014348210593519515, 0.014348009011737505, 0.014347807490205696, 0.014347606028906099, 0.014347404627820717, 0.014347203286931575, 0.014347002006220692, 0.014346800785670097, 0.014346599625261816, 0.01434639852497789, 0.014346197484800361, 0.01434599650471129, 0.014345795584692704, 0.014345594724726693, 0.014345393924795304, 0.014345193184880608, 0.014344992504964679, 0.014344791885029604, 0.014344591325057467, 0.014344390825030362, 0.014344190384930374, 0.014343990004739616, 0.014343789684440191, 0.014343589424014216, 0.014343389223443808, 0.014343189082711084, 0.014342989001798177, 0.014342788980687218, 0.014342589019360353, 0.014342389117799722, 0.014342189275987476, 0.01434198949390577, 0.014341789771536764, 0.014341590108862625, 0.014341390505865522, 0.014341190962527636, 0.014340991478831147, 0.01434079205475823, 0.014340592690291098, 0.014340393385411937, 0.014340194140102954, 0.01433999495434635, 0.014339795828124351, 0.014339596761419163, 0.014339397754213017, 0.014339198806488148, 0.014338999918226776, 0.014338801089411147, 0.01433860232002351, 0.01433840361004612, 0.014338204959461217, 0.01433800636825108, 0.014337807836397968, 0.014337609363884144, 0.014337410950691895, 0.014337212596803504, 0.014337014302201254, 0.01433681606686744, 0.014336617890784362, 0.014336419773934305, 0.014336221716299613, 0.014336023717862564, 0.014335825778605501, 0.014335627898510738, 0.014335430077560607, 0.014335232315737438, 0.014335034613023576, 0.014334836969401365, 0.014334639384853161, 0.01433444185936131, 0.014334244392908181, 0.014334046985476129, 0.014333849637047532, 0.014333652347604772, 0.01433345511713023, 0.014333257945606283, 0.014333060833015328, 0.014332863779339773, 0.014332666784562005, 0.01433246984866444, 0.014332272971629494, 0.014332076153439581, 0.014331879394077127, 0.014331682693524552, 0.014331486051764304, 0.014331289468778815, 0.014331092944550528, 0.014330896479061897, 0.014330700072295375, 0.014330503724233421, 0.0143303074348585, 0.014330111204153086, 0.014329915032099653, 0.014329718918680678, 0.01432952286387865, 0.014329326867676077, 0.014329130930055415, 0.014328935050999208, 0.01432873923048994, 0.014328543468510127, 0.014328347765042285, 0.014328152120068946, 0.014327956533572625, 0.014327761005535863, 0.014327565535941196, 0.014327370124771168, 0.014327174772008323, 0.014326979477635213, 0.014326784241634407, 0.014326589063988461, 0.014326393944679949, 0.01432619888369144, 0.014326003881005522, 0.014325808936604763, 0.01432561405047177, 0.014325419222589128, 0.014325224452939442, 0.014325029741505312, 0.014324835088269353, 0.014324640493214183, 0.01432444595632241, 0.014324251477576676, 0.014324057056959601, 0.014323862694453824, 0.014323668390041995, 0.014323474143706745, 0.014323279955430738, 0.01432308582519662, 0.014322891752987057, 0.01432269773878472, 0.014322503782572275, 0.014322309884332413, 0.014322116044047798, 0.014321922261701129, 0.014321728537275088, 0.014321534870752392, 0.014321341262115725, 0.014321147711347803, 0.014320954218431336, 0.014320760783349045, 0.014320567406083664, 0.0143203740866179, 0.014320180824934501, 0.014319987621016201, 0.014319794474845746, 0.014319601386405877, 0.014319408355679372, 0.014319215382648956, 0.014319022467297417, 0.014318829609607522, 0.01431863680956204, 0.014318444067143752, 0.014318251382335442, 0.014318058755119904, 0.014317866185479925, 0.014317673673398316, 0.014317481218857876, 0.014317288821841417, 0.014317096482331749, 0.0143169042003117, 0.014316711975764092, 0.014316519808671754, 0.014316327699017528, 0.014316135646784254, 0.014315943651954762, 0.014315751714511932, 0.014315559834438591, 0.014315368011717627, 0.014315176246331881, 0.014314984538264238, 0.014314792887497572, 0.01431460129401477, 0.01431440975779871, 0.01431421827883229, 0.014314026857098398, 0.014313835492579948, 0.014313644185259843, 0.014313452935120988, 0.014313261742146302, 0.01431307060631872, 0.014312879527621154, 0.01431268850603654, 0.014312497541547816, 0.01431230663413793, 0.01431211578378982, 0.014311924990486441, 0.01431173425421076, 0.014311543574945724, 0.014311352952674312, 0.014311162387379497, 0.014310971879044253, 0.014310781427651565, 0.014310591033184415, 0.014310400695625804, 0.014310210414958719, 0.014310020191166176, 0.014309830024231172, 0.01430963991413673, 0.014309449860865863, 0.014309259864401598, 0.014309069924726954, 0.014308880041824967, 0.014308690215678686, 0.014308500446271142, 0.01430831073358539, 0.014308121077604477, 0.014307931478311468, 0.014307741935689419, 0.014307552449721412, 0.014307363020390514, 0.014307173647679796, 0.014306984331572344, 0.014306795072051256, 0.014306605869099617, 0.014306416722700529, 0.014306227632837095, 0.014306038599492418, 0.014305849622649622, 0.014305660702291815, 0.014305471838402124, 0.014305283030963694, 0.01430509427995963, 0.014304905585373092, 0.01430471694718721, 0.014304528365385144, 0.014304339839950043, 0.014304151370865064, 0.014303962958113373, 0.014303774601678138, 0.014303586301542538, 0.014303398057689739, 0.014303209870102937, 0.014303021738765307, 0.01430283366366006, 0.01430264564477039, 0.014302457682079486, 0.014302269775570576, 0.014302081925226862, 0.014301894131031565, 0.014301706392967906, 0.014301518711019125, 0.014301331085168437, 0.014301143515399099, 0.01430095600169434, 0.014300768544037425, 0.014300581142411587, 0.014300393796800107, 0.014300206507186225, 0.014300019273553222, 0.014299832095884368, 0.014299644974162948, 0.014299457908372237, 0.014299270898495536, 0.014299083944516122, 0.014298897046417305, 0.014298710204182372, 0.01429852341779465, 0.014298336687237446, 0.014298150012494074, 0.014297963393547856, 0.014297776830382131, 0.014297590322980214, 0.014297403871325467, 0.014297217475401202, 0.014297031135190798, 0.014296844850677583, 0.014296658621844932, 0.014296472448676201, 0.014296286331154756, 0.014296100269263968, 0.014295914262987222, 0.014295728312307885, 0.014295542417209362, 0.014295356577675035, 0.014295170793688305, 0.014294985065232569, 0.014294799392291248, 0.01429461377484774, 0.01429442821288546, 0.01429424270638784, 0.014294057255338301, 0.014293871859720277, 0.014293686519517203, 0.014293501234712519, 0.014293316005289679, 0.014293130831232122, 0.01429294571252332, 0.014292760649146717, 0.01429257564108579, 0.014292390688324007, 0.014292205790844852, 0.014292020948631787, 0.014291836161668313, 0.014291651429937916, 0.0142914667534241, 0.01429128213211035, 0.014291097565980177, 0.014290913055017099, 0.01429072859920463, 0.014290544198526276, 0.014290359852965572, 0.014290175562506058, 0.014289991327131248, 0.014289807146824693, 0.014289623021569947, 0.014289438951350542, 0.01428925493615004, 0.014289070975951997, 0.014288887070739982, 0.014288703220497564, 0.014288519425208318, 0.014288335684855815, 0.01428815199942365, 0.01428796836889539, 0.014287784793254663, 0.014287601272485033, 0.014287417806570129, 0.014287234395493538, 0.014287051039238894, 0.014286867737789801, 0.014286684491129884, 0.014286501299242768, 0.014286318162112092, 0.014286135079721495, 0.014285952052054608, 0.014285769079095083, 0.014285586160826577, 0.014285403297232744, 0.014285220488297253, 0.014285037734003752, 0.014284855034335927, 0.014284672389277447, 0.014284489798811993, 0.01428430726292327, 0.014284124781594939, 0.014283942354810711, 0.014283759982554288, 0.014283577664809375, 0.014283395401559677, 0.014283213192788916, 0.014283031038480805, 0.014282848938619076, 0.014282666893187447, 0.014282484902169662, 0.014282302965549458, 0.014282121083310582, 0.014281939255436775, 0.0142817574819118, 0.014281575762719413, 0.014281394097843377, 0.01428121248726746, 0.014281030930975427, 0.014280849428951073, 0.014280667981178163, 0.014280486587640499, 0.014280305248321861, 0.014280123963206059, 0.014279942732276887, 0.014279761555518153, 0.014279580432913672, 0.014279399364447252, 0.014279218350102726, 0.01427903738986391, 0.01427885648371464, 0.014278675631638755, 0.014278494833620096, 0.014278314089642499, 0.014278133399689821, 0.014277952763745914, 0.014277772181794641, 0.014277591653819866, 0.01427741117980546, 0.01427723075973529, 0.014277050393593251, 0.014276870081363201, 0.014276689823029057, 0.014276509618574695, 0.014276329467984012, 0.014276149371240927, 0.014275969328329332, 0.014275789339233144, 0.014275609403936285, 0.014275429522422676, 0.014275249694676235, 0.01427506992068091, 0.01427489020042062, 0.014274710533879319, 0.014274530921040947, 0.01427435136188946, 0.014274171856408805, 0.014273992404582957, 0.014273813006395877, 0.014273633661831521, 0.014273454370873876, 0.014273275133506916, 0.014273095949714633, 0.014272916819481011, 0.01427273774279004, 0.01427255871962573, 0.014272379749972076, 0.014272200833813092, 0.014272021971132783, 0.014271843161915173, 0.014271664406144276, 0.014271485703804135, 0.014271307054878769, 0.014271128459352213, 0.014270949917208524, 0.014270771428431731, 0.014270592993005897, 0.014270414610915076, 0.01427023628214332, 0.014270058006674705, 0.014269879784493294, 0.014269701615583169, 0.014269523499928393, 0.014269345437513074, 0.01426916742832128, 0.014268989472337127, 0.01426881156954469, 0.014268633719928083, 0.014268455923471413, 0.014268278180158796, 0.014268100489974353, 0.014267922852902192, 0.014267745268926454, 0.014267567738031258, 0.014267390260200756, 0.014267212835419072, 0.01426703546367036, 0.014266858144938782, 0.014266680879208474, 0.014266503666463601, 0.014266326506688333, 0.014266149399866842, 0.014265972345983292, 0.014265795345021866, 0.014265618396966757, 0.014265441501802145, 0.014265264659512219, 0.014265087870081187, 0.014264911133493239, 0.01426473444973259, 0.01426455781878346, 0.014264381240630045, 0.014264204715256575, 0.014264028242647294, 0.014263851822786404, 0.014263675455658159, 0.014263499141246796, 0.014263322879536553, 0.014263146670511696, 0.01426297051415645, 0.014262794410455106, 0.01426261835939191, 0.014262442360951129, 0.014262266415117035, 0.014262090521873917, 0.014261914681206059, 0.01426173889309773, 0.014261563157533238, 0.01426138747449687, 0.014261211843972924, 0.014261036265945728, 0.014260860740399567, 0.014260685267318765, 0.01426050984668765, 0.014260334478490535, 0.014260159162711748, 0.014259983899335641, 0.014259808688346521, 0.014259633529728765, 0.014259458423466704, 0.014259283369544688, 0.014259108367947079, 0.014258933418658238, 0.014258758521662534, 0.014258583676944334, 0.014258408884488013, 0.014258234144277963, 0.01425805945629855, 0.014257884820534184, 0.014257710236969237, 0.014257535705588137, 0.014257361226375252, 0.014257186799315025, 0.01425701242439185, 0.014256838101590149, 0.014256663830894337, 0.014256489612288856, 0.01425631544575813, 0.014256141331286588, 0.014255967268858683, 0.014255793258458858, 0.01425561930007156, 0.014255445393681237, 0.014255271539272366, 0.01425509773682939, 0.014254923986336796, 0.014254750287779052, 0.014254576641140628, 0.01425440304640602, 0.014254229503559706, 0.014254056012586178, 0.014253882573469937, 0.01425370918619548, 0.014253535850747316, 0.014253362567109953, 0.01425318933526791, 0.014253016155205704, 0.014252843026907859, 0.014252669950358893, 0.014252496925543368, 0.014252323952445791, 0.014252151031050724, 0.014251978161342712, 0.014251805343306294, 0.014251632576926042, 0.01425145986218651, 0.014251287199072269, 0.014251114587567884, 0.014250942027657925, 0.014250769519326986, 0.014250597062559645, 0.014250424657340485, 0.014250252303654102, 0.014250080001485097, 0.014249907750818072, 0.014249735551637631, 0.014249563403928385, 0.014249391307674957, 0.014249219262861969, 0.014249047269474038, 0.014248875327495789, 0.01424870343691188, 0.014248531597706927, 0.014248359809865586, 0.014248188073372501, 0.01424801638821233, 0.014247844754369717, 0.014247673171829348, 0.014247501640575866, 0.01424733016059396, 0.014247158731868286, 0.014246987354383546, 0.014246816028124417, 0.01424664475307558, 0.01424647352922174, 0.014246302356547592, 0.014246131235037844, 0.014245960164677197, 0.014245789145450367, 0.014245618177342066, 0.01424544726033702, 0.014245276394419956, 0.014245105579575604, 0.014244934815788701, 0.014244764103043983, 0.0142445934413262, 0.014244422830620093, 0.014244252270910418, 0.014244081762181938, 0.014243911304419413, 0.014243740897607608, 0.014243570541731294, 0.014243400236775247, 0.01424322998272425, 0.014243059779563094, 0.014242889627276566, 0.01424271952584945, 0.014242549475266547, 0.014242379475512677, 0.014242209526572644, 0.01424203962843123, 0.0142418697810733, 0.014241699984483634, 0.01424153023864708, 0.014241360543548461, 0.014241190899172626, 0.014241021305504394, 0.014240851762528624, 0.014240682270230155, 0.014240512828593848, 0.014240343437604561, 0.014240174097247153, 0.014240004807506493, 0.014239835568367443, 0.014239666379814891, 0.014239497241833713, 0.014239328154408794, 0.014239159117525022, 0.014238990131167287, 0.014238821195320505, 0.014238652309969558, 0.014238483475099362, 0.01423831469069483, 0.014238145956740883, 0.014237977273222431, 0.014237808640124406, 0.014237640057431736, 0.014237471525129356, 0.014237303043202212, 0.01423713461163523, 0.014236966230413376, 0.014236797899521597, 0.014236629618944837, 0.014236461388668084, 0.014236293208676278, 0.014236125078954403, 0.014235956999487435, 0.01423578897026034, 0.014235620991258116, 0.014235453062465755, 0.014235285183868235, 0.014235117355450553, 0.014234949577197726, 0.014234781849094748, 0.014234614171126633, 0.014234446543278404, 0.014234278965535061, 0.01423411143788165, 0.014233943960303194, 0.014233776532784716, 0.01423360915531126, 0.014233441827867873, 0.014233274550439596, 0.014233107323011477, 0.01423294014556857, 0.01423277301809595, 0.01423260594057867, 0.014232438913001796, 0.014232271935350411, 0.014232105007609583, 0.0142319381297644, 0.014231771301799947, 0.014231604523701317, 0.014231437795453602, 0.014231271117041906, 0.014231104488451324, 0.014230937909666983, 0.014230771380673983, 0.014230604901457448, 0.01423043847200249, 0.014230272092294242, 0.014230105762317839, 0.014229939482058413, 0.014229773251501104, 0.01422960707063106, 0.014229440939433423, 0.014229274857893352, 0.014229108825995998, 0.01422894284372653, 0.014228776911070117, 0.014228611028011923, 0.014228445194537124, 0.014228279410630908, 0.014228113676278444, 0.014227947991464937, 0.014227782356175564, 0.014227616770395544, 0.014227451234110062, 0.014227285747304329, 0.014227120309963552, 0.014226954922072953, 0.014226789583617757, 0.014226624294583172, 0.014226459054954435, 0.014226293864716784, 0.014226128723855449, 0.014225963632355672, 0.0142257985902027, 0.014225633597381784, 0.014225468653878184, 0.014225303759677153, 0.014225138914763966, 0.014224974119123865, 0.01422480937274214, 0.014224644675604081, 0.01422448002769495, 0.014224315429000036, 0.014224150879504637, 0.014223986379194037, 0.014223821928053543, 0.014223657526068453, 0.014223493173224078, 0.014223328869505735, 0.014223164614898729, 0.014223000409388389, 0.01422283625296004, 0.014222672145599006, 0.014222508087290628, 0.014222344078020236, 0.014222180117773184, 0.014222016206534809, 0.014221852344290475, 0.014221688531025517, 0.014221524766725316, 0.01422136105137523, 0.014221197384960622, 0.014221033767466872, 0.014220870198879354, 0.014220706679183459, 0.014220543208364564, 0.01422037978640806, 0.014220216413299343, 0.01422005308902382, 0.014219889813566882, 0.01421972658691395, 0.014219563409050435, 0.014219400279961745, 0.014219237199633309, 0.014219074168050542, 0.014218911185198899, 0.014218748251063784, 0.014218585365630657, 0.014218422528884953, 0.01421825974081212, 0.014218097001397614, 0.014217934310626882, 0.014217771668485393, 0.014217609074958611, 0.014217446530032004, 0.014217284033691036, 0.014217121585921208, 0.01421695918670798, 0.014216796836036848, 0.014216634533893303, 0.014216472280262835, 0.014216310075130951, 0.014216147918483156, 0.01421598581030494, 0.014215823750581844, 0.014215661739299364, 0.014215499776443022, 0.01421533786199836, 0.014215175995950888, 0.014215014178286155, 0.014214852408989695, 0.014214690688047042, 0.01421452901544376, 0.014214367391165387, 0.014214205815197481, 0.014214044287525604, 0.014213882808135316, 0.014213721377012203, 0.014213559994141816, 0.014213398659509744, 0.014213237373101564, 0.014213076134902872, 0.014212914944899246, 0.014212753803076286, 0.014212592709419583, 0.014212431663914758, 0.014212270666547405, 0.014212109717303138, 0.014211948816167568, 0.014211787963126329, 0.014211627158165032, 0.01421146640126932, 0.014211305692424812, 0.014211145031617158, 0.014210984418831982, 0.014210823854054951, 0.014210663337271709, 0.014210502868467898, 0.014210342447629195, 0.014210182074741248, 0.014210021749789737, 0.01420986147276033, 0.014209701243638698, 0.014209541062410524, 0.014209380929061498, 0.014209220843577305, 0.01420906080594364, 0.014208900816146194, 0.014208740874170673, 0.01420858098000278, 0.014208421133628238, 0.014208261335032753, 0.014208101584202033, 0.014207941881121825, 0.014207782225777827, 0.014207622618155799, 0.014207463058241464, 0.014207303546020558, 0.014207144081478834, 0.014206984664602037, 0.01420682529537592, 0.01420666597378624, 0.014206506699818747, 0.014206347473459228, 0.01420618829469345, 0.014206029163507172, 0.014205870079886189, 0.014205711043816264, 0.014205552055283203, 0.014205393114272793, 0.014205234220770822, 0.014205075374763095, 0.014204916576235418, 0.014204757825173598, 0.01420459912156344, 0.014204440465390766, 0.014204281856641401, 0.01420412329530117, 0.014203964781355898, 0.014203806314791421, 0.014203647895593564, 0.014203489523748199, 0.01420333119924114, 0.01420317292205826, 0.014203014692185403, 0.014202856509608428, 0.014202698374313205, 0.014202540286285596, 0.014202382245511477, 0.014202224251976711, 0.014202066305667196, 0.014201908406568804, 0.014201750554667433, 0.014201592749948963, 0.014201434992399306, 0.014201277282004356, 0.014201119618750016, 0.014200962002622195, 0.014200804433606813, 0.014200646911689783, 0.014200489436857037, 0.014200332009094485, 0.014200174628388068, 0.014200017294723725, 0.014199860008087381, 0.014199702768464991, 0.014199545575842501, 0.014199388430205854, 0.01419923133154102, 0.014199074279833952, 0.014198917275070607, 0.014198760317236965, 0.01419860340631899, 0.014198446542302673, 0.014198289725173972, 0.014198132954918891, 0.014197976231523418, 0.014197819554973541, 0.014197662925255252, 0.014197506342354565, 0.014197349806257484, 0.014197193316950008, 0.014197036874418164, 0.014196880478647972, 0.014196724129625445, 0.014196567827336611, 0.014196411571767507, 0.014196255362904172, 0.01419609920073263, 0.014195943085238945, 0.014195787016409148, 0.014195630994229299, 0.014195475018685455, 0.014195319089763667, 0.014195163207450009, 0.014195007371730553, 0.014194851582591364, 0.014194695840018524, 0.014194540143998104, 0.014194384494516201, 0.014194228891558903, 0.014194073335112295, 0.014193917825162489, 0.01419376236169558, 0.014193606944697668, 0.014193451574154869, 0.014193296250053299, 0.014193140972379075, 0.014192985741118316, 0.014192830556257155, 0.014192675417781726, 0.014192520325678156, 0.014192365279932583, 0.01419221028053115, 0.014192055327460025, 0.014191900420705325, 0.014191745560253237, 0.014191590746089907, 0.01419143597820151, 0.014191281256574187, 0.014191126581194138, 0.01419097195204753, 0.01419081736912055, 0.014190662832399371, 0.014190508341870184, 0.014190353897519199, 0.01419019949933259, 0.014190045147296573, 0.014189890841397344, 0.014189736581621128, 0.014189582367954116, 0.014189428200382548, 0.014189274078892629, 0.014189120003470598, 0.014188965974102675, 0.014188811990775102, 0.01418865805347411, 0.014188504162185948, 0.014188350316896867, 0.0141881965175931, 0.014188042764260923, 0.01418788905688658, 0.014187735395456338, 0.014187581779956474, 0.01418742821037324, 0.014187274686692926, 0.014187121208901799, 0.014186967776986163, 0.014186814390932289, 0.014186661050726471, 0.014186507756355013, 0.0141863545078042, 0.014186201305060354, 0.014186048148109774, 0.014185895036938774, 0.014185741971533657, 0.014185588951880768, 0.014185435977966414, 0.014185283049776929, 0.014185130167298646, 0.0141849773305179, 0.014184824539421033, 0.014184671793994394, 0.014184519094224326, 0.01418436644009718, 0.01418421383159932, 0.014184061268717105, 0.014183908751436899, 0.014183756279745077, 0.014183603853628001, 0.014183451473072055, 0.014183299138063625, 0.014183146848589092, 0.014182994604634847, 0.014182842406187285, 0.014182690253232795, 0.014182538145757786, 0.01418238608374867, 0.01418223406719185, 0.014182082096073736, 0.014181930170380755, 0.014181778290099326, 0.014181626455215878, 0.014181474665716832, 0.014181322921588631, 0.01418117122281772, 0.014181019569390526, 0.014180867961293494, 0.014180716398513094, 0.01418056488103577, 0.014180413408847977, 0.014180261981936181, 0.014180110600286852, 0.014179959263886453, 0.014179807972721468, 0.01417965672677838, 0.01417950552604365, 0.014179354370503787, 0.014179203260145271, 0.014179052194954604, 0.014178901174918277, 0.014178750200022803, 0.014178599270254675, 0.014178448385600416, 0.014178297546046542, 0.014178146751579569, 0.014177996002186015, 0.014177845297852421, 0.0141776946385653, 0.014177544024311203, 0.014177393455076662, 0.01417724293084822, 0.014177092451612435, 0.01417694201735584, 0.014176791628065006, 0.014176641283726487, 0.014176490984326847, 0.014176340729852657, 0.014176190520290479, 0.014176040355626897, 0.01417589023584849, 0.014175740160941837, 0.014175590130893529, 0.01417544014569016, 0.01417529020531832, 0.014175140309764609, 0.014174990459015636, 0.01417484065305801, 0.01417469089187833, 0.014174541175463224, 0.01417439150379931, 0.014174241876873212, 0.014174092294671552, 0.014173942757180966, 0.014173793264388083, 0.014173643816279557, 0.014173494412842021, 0.014173345054062123, 0.014173195739926515, 0.01417304647042186, 0.014172897245534803, 0.014172748065252013, 0.014172598929560173, 0.01417244983844593, 0.01417230079189598, 0.014172151789896992, 0.014172002832435653, 0.014171853919498647, 0.01417170505107267, 0.014171556227144418, 0.014171407447700587, 0.014171258712727872, 0.014171110022213, 0.014170961376142665, 0.014170812774503596, 0.014170664217282506, 0.01417051570446611, 0.014170367236041152, 0.014170218811994343, 0.014170070432312437, 0.014169922096982165, 0.014169773805990268, 0.0141696255593235, 0.014169477356968602, 0.014169329198912336, 0.01416918108514147, 0.014169033015642736, 0.014168884990402943, 0.014168737009408818, 0.014168589072647184, 0.014168441180104767, 0.014168293331768398, 0.014168145527624833, 0.014167997767660872, 0.014167850051863303, 0.014167702380218932, 0.014167554752714568, 0.014167407169337004, 0.014167259630073053, 0.014167112134909534, 0.014166964683833263, 0.014166817276831061, 0.014166669913889757, 0.014166522594996178, 0.014166375320137162, 0.014166228089299534, 0.014166080902470155, 0.014165933759635863, 0.0141657866607835, 0.014165639605899928, 0.014165492594971997, 0.014165345627986579, 0.014165198704930534, 0.014165051825790729, 0.01416490499055404, 0.014164758199207343, 0.014164611451737521, 0.014164464748131458, 0.014164318088376043, 0.014164171472458166, 0.014164024900364721, 0.014163878372082621, 0.014163731887598755, 0.014163585446900051, 0.014163439049973409, 0.014163292696805737, 0.014163146387383977, 0.01416300012169503, 0.01416285389972584, 0.014162707721463334, 0.014162561586894445, 0.01416241549600612, 0.014162269448785288, 0.014162123445218914, 0.014161977485293943, 0.014161831568997332, 0.014161685696316031, 0.01416153986723701, 0.014161394081747238, 0.01416124833983369, 0.014161102641483327, 0.014160956986683142, 0.014160811375420104, 0.014160665807681208, 0.014160520283453451, 0.014160374802723802, 0.014160229365479287, 0.014160083971706906, 0.014159938621393642, 0.014159793314526532, 0.014159648051092568, 0.014159502831078781, 0.014159357654472191, 0.01415921252125981, 0.014159067431428685, 0.014158922384965845, 0.014158777381858318, 0.014158632422093151, 0.014158487505657397, 0.014158342632538092, 0.014158197802722285, 0.014158053016197042, 0.014157908272949429, 0.014157763572966497, 0.014157618916235322, 0.014157474302742966, 0.014157329732476524, 0.014157185205423055, 0.014157040721569656, 0.014156896280903405, 0.014156751883411391, 0.014156607529080722, 0.014156463217898495, 0.014156318949851799, 0.014156174724927754, 0.014156030543113466, 0.014155886404396049, 0.014155742308762617, 0.014155598256200294, 0.014155454246696212, 0.0141553102802375, 0.01415516635681128, 0.014155022476404705, 0.014154878639004905, 0.014154734844599025, 0.014154591093174225, 0.014154447384717645, 0.014154303719216443, 0.014154160096657794, 0.014154016517028842, 0.014153872980316774, 0.014153729486508742, 0.014153586035591933, 0.014153442627553536, 0.014153299262380716, 0.014153155940060677, 0.01415301266058059, 0.014152869423927662, 0.01415272623008909, 0.014152583079052084, 0.014152439970803846, 0.014152296905331586, 0.014152153882622507, 0.014152010902663839, 0.014151867965442797, 0.014151725070946617, 0.014151582219162526, 0.014151439410077743, 0.01415129664367951, 0.01415115391995508, 0.014151011238891691, 0.01415086860047659, 0.014150726004697028, 0.014150583451540265, 0.014150440940993558, 0.014150298473044168, 0.014150156047679364, 0.014150013664886421, 0.014149871324652613, 0.014149729026965213, 0.014149586771811514, 0.014149444559178794, 0.01414930238905435, 0.01414916026142546, 0.014149018176279445, 0.01414887613360359, 0.014148734133385207, 0.014148592175611605, 0.014148450260270092, 0.014148308387347985, 0.014148166556832618, 0.014148024768711307, 0.01414788302297137, 0.014147741319600156, 0.014147599658584985, 0.01414745803991321, 0.014147316463572162, 0.014147174929549203, 0.014147033437831672, 0.01414689198840692, 0.01414675058126232, 0.014146609216385234, 0.014146467893763014, 0.014146326613383034, 0.014146185375232666, 0.014146044179299301, 0.014145903025570308, 0.014145761914033071, 0.014145620844674982, 0.014145479817483441, 0.014145338832445831, 0.014145197889549554, 0.014145056988782016, 0.01414491613013064, 0.014144775313582806, 0.014144634539125959, 0.014144493806747498, 0.014144353116434855, 0.014144212468175451, 0.014144071861956719]\n"
     ]
    }
   ],
   "source": [
    "print(cost_history)"
   ]
  },
  {
   "cell_type": "code",
   "execution_count": null,
   "metadata": {},
   "outputs": [],
   "source": []
  },
  {
   "cell_type": "code",
   "execution_count": 39,
   "metadata": {},
   "outputs": [
    {
     "data": {
      "text/plain": [
       "Text(0.5, 1.0, 'Errors over iterations')"
      ]
     },
     "execution_count": 39,
     "metadata": {},
     "output_type": "execute_result"
    },
    {
     "data": {
      "image/png": "[encoded data removed]",
      "text/plain": [
       "<Figure size 432x288 with 1 Axes>"
      ]
     },
     "metadata": {
      "needs_background": "light"
     },
     "output_type": "display_data"
    }
   ],
   "source": [
    "cost_x = list(range(len(cost_history)))\n",
    "cost_y = cost_history\n",
    "plt.plot(cost_x, cost_y)\n",
    "plt.title(\"Errors over iterations\", color = 'blue')"
   ]
  },
  {
   "cell_type": "code",
   "execution_count": 40,
   "metadata": {},
   "outputs": [
    {
     "name": "stdout",
     "output_type": "stream",
     "text": [
      "theta_prime: 0.5, theta: -0.5, b: -0.5\n"
     ]
    },
    {
     "data": {
      "image/png": "[encoded data removed]",
      "text/plain": [
       "<Figure size 432x288 with 1 Axes>"
      ]
     },
     "metadata": {
      "needs_background": "light"
     },
     "output_type": "display_data"
    }
   ],
   "source": [
    "theta_prime = theta_prime_history[0]\n",
    "theta = theta_history[0]\n",
    "b = b_history[0]\n",
    "\n",
    "print(f'theta_prime: {theta_prime}, theta: {theta}, b: {b}')\n",
    "\n",
    "x_plot = np.linspace(-1, 1.5, 100)\n",
    "y_plot = theta_prime*(x_plot**2)+theta*(x_plot)+b\n",
    "\n",
    "\n",
    "plt.scatter(x_plot, y_plot, color='red')\n",
    "plt.scatter(x_norm, y_norm, color='blue')\n",
    "\n",
    "\n",
    "# show the plot\n",
    "plt.title(\"0 iterations\", color='red', fontdict = {'fontsize': 20})\n",
    "plt.show()"
   ]
  },
  {
   "cell_type": "code",
   "execution_count": 41,
   "metadata": {},
   "outputs": [
    {
     "name": "stdout",
     "output_type": "stream",
     "text": [
      "theta_prime: 0.5113425619003212, theta: -0.4809556953951958, b: -0.4515260985427716\n"
     ]
    },
    {
     "data": {
      "image/png": "[encoded data removed]",
      "text/plain": [
       "<Figure size 432x288 with 1 Axes>"
      ]
     },
     "metadata": {
      "needs_background": "light"
     },
     "output_type": "display_data"
    }
   ],
   "source": [
    "theta_prime = theta_prime_history[1]\n",
    "theta = theta_history[1]\n",
    "b = b_history[1]\n",
    "\n",
    "print(f'theta_prime: {theta_prime}, theta: {theta}, b: {b}')\n",
    "\n",
    "x_plot = np.linspace(-1, 1.5, 100)\n",
    "y_plot = theta_prime*(x_plot**2)+theta*(x_plot)+b\n",
    "\n",
    "\n",
    "plt.scatter(x_plot, y_plot, color='red')\n",
    "plt.scatter(x_norm, y_norm, color='blue')\n",
    "\n",
    "\n",
    "# show the plot\n",
    "plt.title(\"1 iterations\", color='red', fontdict = {'fontsize': 20})\n",
    "plt.show()"
   ]
  },
  {
   "cell_type": "code",
   "execution_count": 42,
   "metadata": {},
   "outputs": [
    {
     "name": "stdout",
     "output_type": "stream",
     "text": [
      "theta_prime: 0.5220912102811179, theta: -0.46293613497563096, b: -0.40586534716877143\n"
     ]
    },
    {
     "data": {
      "image/png": "[encoded data removed]",
      "text/plain": [
       "<Figure size 432x288 with 1 Axes>"
      ]
     },
     "metadata": {
      "needs_background": "light"
     },
     "output_type": "display_data"
    }
   ],
   "source": [
    "theta_prime = theta_prime_history[2]\n",
    "theta = theta_history[2]\n",
    "b = b_history[2]\n",
    "\n",
    "print(f'theta_prime: {theta_prime}, theta: {theta}, b: {b}')\n",
    "\n",
    "x_plot = np.linspace(-1, 1.5, 100)\n",
    "y_plot = theta_prime*(x_plot**2)+theta*(x_plot)+b\n",
    "\n",
    "\n",
    "plt.scatter(x_plot, y_plot, color='red')\n",
    "plt.scatter(x_norm, y_norm, color='blue')\n",
    "\n",
    "\n",
    "# show the plot\n",
    "plt.title(\"2 iterations\", color='red', fontdict = {'fontsize': 20})\n",
    "plt.show()"
   ]
  },
  {
   "cell_type": "code",
   "execution_count": 43,
   "metadata": {},
   "outputs": [
    {
     "name": "stdout",
     "output_type": "stream",
     "text": [
      "theta_prime: 0.5322796370911619, theta: -0.4458829393874115, b: -0.3628563456458515\n"
     ]
    },
    {
     "data": {
      "image/png": "[encoded data removed]",
      "text/plain": [
       "<Figure size 432x288 with 1 Axes>"
      ]
     },
     "metadata": {
      "needs_background": "light"
     },
     "output_type": "display_data"
    }
   ],
   "source": [
    "theta_prime = theta_prime_history[3]\n",
    "theta = theta_history[3]\n",
    "b = b_history[3]\n",
    "\n",
    "print(f'theta_prime: {theta_prime}, theta: {theta}, b: {b}')\n",
    "\n",
    "x_plot = np.linspace(-1, 1.5, 100)\n",
    "y_plot = theta_prime*(x_plot**2)+theta*(x_plot)+b\n",
    "\n",
    "\n",
    "plt.scatter(x_plot, y_plot, color='red')\n",
    "plt.scatter(x_norm, y_norm, color='blue')\n",
    "\n",
    "\n",
    "# show the plot\n",
    "plt.title(\"3 iterations\", color='red', fontdict = {'fontsize': 20})\n",
    "plt.show()"
   ]
  },
  {
   "cell_type": "code",
   "execution_count": 44,
   "metadata": {},
   "outputs": [
    {
     "name": "stdout",
     "output_type": "stream",
     "text": [
      "theta_prime: 0.5419396054797949, theta: -0.4297410727842375, b: -0.32234694382458473\n"
     ]
    },
    {
     "data": {
      "image/png": "[encoded data removed]",
      "text/plain": [
       "<Figure size 432x288 with 1 Axes>"
      ]
     },
     "metadata": {
      "needs_background": "light"
     },
     "output_type": "display_data"
    }
   ],
   "source": [
    "theta_prime = theta_prime_history[4]\n",
    "theta = theta_history[4]\n",
    "b = b_history[4]\n",
    "\n",
    "print(f'theta_prime: {theta_prime}, theta: {theta}, b: {b}')\n",
    "\n",
    "x_plot = np.linspace(-1, 1.5, 100)\n",
    "y_plot = theta_prime*(x_plot**2)+theta*(x_plot)+b\n",
    "\n",
    "\n",
    "plt.scatter(x_plot, y_plot, color='red')\n",
    "plt.scatter(x_norm, y_norm, color='blue')\n",
    "\n",
    "\n",
    "# show the plot\n",
    "plt.title(\"4 iterations\", color='red', fontdict = {'fontsize': 20})\n",
    "plt.show()"
   ]
  },
  {
   "cell_type": "code",
   "execution_count": 45,
   "metadata": {},
   "outputs": [
    {
     "name": "stdout",
     "output_type": "stream",
     "text": [
      "theta_prime: 0.5511010603157313, theta: -0.41445865123903447, b: -0.2841937115582118\n"
     ]
    },
    {
     "data": {
      "image/png": "[encoded data removed]",
      "text/plain": [
       "<Figure size 432x288 with 1 Axes>"
      ]
     },
     "metadata": {
      "needs_background": "light"
     },
     "output_type": "display_data"
    }
   ],
   "source": [
    "theta_prime = theta_prime_history[5]\n",
    "theta = theta_history[5]\n",
    "b = b_history[5]\n",
    "\n",
    "print(f'theta_prime: {theta_prime}, theta: {theta}, b: {b}')\n",
    "\n",
    "x_plot = np.linspace(-1, 1.5, 100)\n",
    "y_plot = theta_prime*(x_plot**2)+theta*(x_plot)+b\n",
    "\n",
    "\n",
    "plt.scatter(x_plot, y_plot, color='red')\n",
    "plt.scatter(x_norm, y_norm, color='blue')\n",
    "\n",
    "\n",
    "# show the plot\n",
    "plt.title(\"5 iterations\", color='red', fontdict = {'fontsize': 20})\n",
    "plt.show()"
   ]
  },
  {
   "cell_type": "code",
   "execution_count": 46,
   "metadata": {},
   "outputs": [
    {
     "name": "stdout",
     "output_type": "stream",
     "text": [
      "theta_prime: 0.6603349892033342, theta: 0.23851364874765316, b: 0.20812512885498183\n"
     ]
    },
    {
     "data": {
      "image/png": "[encoded data removed]",
      "text/plain": [
       "<Figure size 432x288 with 1 Axes>"
      ]
     },
     "metadata": {
      "needs_background": "light"
     },
     "output_type": "display_data"
    }
   ],
   "source": [
    "theta_prime = theta_prime_history[-1]\n",
    "theta = theta_history[-1]\n",
    "b = b_history[-1]\n",
    "\n",
    "print(f'theta_prime: {theta_prime}, theta: {theta}, b: {b}')\n",
    "\n",
    "x_plot = np.linspace(-1, 1.5, 100)\n",
    "y_plot = theta_prime*(x_plot**2)+theta*(x_plot)+b\n",
    "\n",
    "\n",
    "plt.scatter(x_plot, y_plot, color='red')\n",
    "plt.scatter(x_norm, y_norm, color='blue')\n",
    "\n",
    "\n",
    "# show the plot\n",
    "plt.title(\"Final Model\", color='red', fontdict = {'fontsize': 20})\n",
    "plt.show()"
   ]
  },
  {
   "cell_type": "code",
   "execution_count": null,
   "metadata": {},
   "outputs": [],
   "source": []
  },
  {
   "cell_type": "code",
   "execution_count": 47,
   "metadata": {},
   "outputs": [
    {
     "name": "stdout",
     "output_type": "stream",
     "text": [
      "############ Lowest Cost for Model [y = 2.4451083095900437x-4.010927879850494] ############\n",
      "3.0920884827911035\n",
      "\n",
      "\n",
      " ############ Lowest Cost for Model [y=0.6603349892033342x**2+0.23851364874765316x+0.20812512885498183] ############ \n",
      "0.014144071861956719\n",
      "\n",
      "\n",
      "Your model won 😆!!!!\n"
     ]
    }
   ],
   "source": [
    "# Compare with model of degree 1 on original data\n",
    "print('############ Lowest Cost for Model [y = 2.4451083095900437x-4.010927879850494] ############')\n",
    "print(3.0920884827911035)\n",
    "\n",
    "if b > 0:\n",
    "    print(f'\\n\\n ############ Lowest Cost for Model [y={theta_prime_history[-1]}x**2+{theta_history[-1]}x+{b}] ############ ')\n",
    "else:\n",
    "    print(f'\\n\\n ############ Lowest Cost for Model [y={theta_prime_history[-1]}x**2+{theta_history[-1]}x{b}] ############ ')\n",
    "print(cost_history[-1])\n",
    "\n",
    "if cost_history[-1] < 3.0920884827911035:\n",
    "    print('\\n\\nYour model won 😆!!!!')\n",
    "else:\n",
    "    print('\\n\\nOops... You lost 😭 Keep trying!!')"
   ]
  },
  {
   "cell_type": "code",
   "execution_count": 48,
   "metadata": {},
   "outputs": [
    {
     "data": {
      "text/plain": [
       "'\\nIs the above result accurate 🤔 There is something wrong...\\n\\n'"
      ]
     },
     "execution_count": 48,
     "metadata": {},
     "output_type": "execute_result"
    }
   ],
   "source": [
    "\"\"\"\n",
    "Is the above result accurate 🤔 There is something wrong...\n",
    "\n",
    "\"\"\""
   ]
  },
  {
   "cell_type": "code",
   "execution_count": 49,
   "metadata": {},
   "outputs": [
    {
     "name": "stdout",
     "output_type": "stream",
     "text": [
      "############ Lowest Cost for Model [y=0.8403015706272842x-0.6737301993086687] ############\n",
      "0.013844709899169255\n",
      "\n",
      "\n",
      " ############ Lowest Cost for Model [y=0.6603349892033342x**2+0.23851364874765316x+0.20812512885498183] ############ \n",
      "0.014144071861956719\n",
      "\n",
      "\n",
      "Oops... You lost 😭 Keep trying!!\n"
     ]
    }
   ],
   "source": [
    "# Compare with model of degree 1 on normalized data\n",
    "print('############ Lowest Cost for Model [y=0.8403015706272842x-0.6737301993086687] ############')\n",
    "print(0.013844709899169255)\n",
    "\n",
    "if b > 0:\n",
    "    print(f'\\n\\n ############ Lowest Cost for Model [y={theta_prime_history[-1]}x**2+{theta_history[-1]}x+{b}] ############ ')\n",
    "else:\n",
    "    print(f'\\n\\n ############ Lowest Cost for Model [y={theta_prime_history[-1]}x**2+{theta_history[-1]}x{b}] ############ ')\n",
    "print(cost_history[-1])\n",
    "\n",
    "if cost_history[-1] < 0.013844709899169255:\n",
    "    print('\\n\\nYour model won 😆!!!!')\n",
    "else:\n",
    "    print('\\n\\nOops... You lost 😭 Keep trying!!')"
   ]
  }
 ],
 "metadata": {
  "kernelspec": {
   "display_name": "Python 3 (ipykernel)",
   "language": "python",
   "name": "python3"
  },
  "language_info": {
   "codemirror_mode": {
    "name": "ipython",
    "version": 3
   },
   "file_extension": ".py",
   "mimetype": "text/x-python",
   "name": "python",
   "nbconvert_exporter": "python",
   "pygments_lexer": "ipython3",
   "version": "3.9.7"
  }
 },
 "nbformat": 4,
 "nbformat_minor": 4
}
