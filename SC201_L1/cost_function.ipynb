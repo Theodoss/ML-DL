{
 "cells": [
  {
   "cell_type": "code",
   "execution_count": 64,
   "metadata": {},
   "outputs": [],
   "source": [
    "# File: cost_function.ipynb\n",
    "# Name: \n",
    "# ---------------------------------\n",
    "# This file gets students familiar with jupyter notebook.\n",
    "# Jupyter is a cell-based interactive computing app that\n",
    "# allows you to see results immediately by pressing 'shift'\n",
    "# and 'return' at the same time."
   ]
  },
  {
   "cell_type": "code",
   "execution_count": 65,
   "metadata": {},
   "outputs": [],
   "source": [
    "import matplotlib.pyplot as plt\n",
    "import numpy as np"
   ]
  },
  {
   "cell_type": "code",
   "execution_count": 66,
   "metadata": {},
   "outputs": [],
   "source": [
    "# ------------------ Initialize Data Points ------------------ #\n",
    "x = [6.1101,5.5277,8.5186,7.0032,5.8598,8.3829,7.4764,8.5781,6.4862,5.0546,5.7107,10.164,5.734,8.4084,5.6407,5.3794,6.3654,5.1301,6.4296,7.0708,6.1891]\n",
    "y = [6.592,9.1302,13.662,11.854,6.8233,11.886,4.3483,12,6.5987,3.8166,3.2522,15.505,3.1551,7.2258,0.71618,3.5129,5.3048,0.56077,3.6518,5.3893,3.1386]\n",
    "# ------------------ Initialize Data Points ------------------ #"
   ]
  },
  {
   "cell_type": "code",
   "execution_count": 67,
   "metadata": {},
   "outputs": [
    {
     "data": {
      "text/plain": [
       "(0.0, 30.0)"
      ]
     },
     "execution_count": 67,
     "metadata": {},
     "output_type": "execute_result"
    },
    {
     "data": {
      "image/png": "[encoded data removed]",
      "text/plain": [
       "<Figure size 432x288 with 1 Axes>"
      ]
     },
     "metadata": {
      "needs_background": "light"
     },
     "output_type": "display_data"
    }
   ],
   "source": [
    "# ------------------ Visualize Data Points ------------------ #\n",
    "plt.scatter(x, y)\n",
    "axes = plt.gca()\n",
    "axes.set_xlim([0,12])\n",
    "axes.set_ylim([0,30])\n",
    "# ------------------ Visualize Data Points ------------------ #"
   ]
  },
  {
   "cell_type": "code",
   "execution_count": null,
   "metadata": {},
   "outputs": [],
   "source": []
  },
  {
   "cell_type": "code",
   "execution_count": 68,
   "metadata": {},
   "outputs": [],
   "source": [
    "# --------------------- TODO1: --------------------- #\n",
    "# What is the predict data new_y1 for model y = x?\n",
    "\n",
    "x = [6.1101,5.5277,8.5186,7.0032,5.8598,8.3829,7.4764,8.5781,6.4862,5.0546,5.7107,10.164,5.734,8.4084,5.6407,5.3794,6.3654,5.1301,6.4296,7.0708,6.1891]\n",
    "predict_y1 = list(ele for ele in x)\n",
    "\n",
    "\n",
    "# --------------------- TODO1: --------------------- #"
   ]
  },
  {
   "cell_type": "code",
   "execution_count": 69,
   "metadata": {},
   "outputs": [
    {
     "data": {
      "image/png": "[encoded data removed]",
      "text/plain": [
       "<Figure size 432x288 with 1 Axes>"
      ]
     },
     "metadata": {
      "needs_background": "light"
     },
     "output_type": "display_data"
    }
   ],
   "source": [
    "# ------------------ Visualize prediction your model ------------------ #\n",
    "plt.scatter(x, y)\n",
    "axes = plt.gca()\n",
    "axes.set_xlim([0,12])\n",
    "axes.set_ylim([0,30])\n",
    "x_plot = np.linspace(0, 12, 140)\n",
    "y_plot = 1*x_plot\n",
    "plt.scatter(x_plot, y_plot, s=8, color='red')\n",
    "plt.scatter(x, y, color='blue')\n",
    "plt.title(\"Model y=x\", color='red', fontdict = {'fontsize': 20})\n",
    "plt.show()\n",
    "# ------------------ Visualize Data Points and your model ------------------ #"
   ]
  },
  {
   "cell_type": "code",
   "execution_count": 70,
   "metadata": {},
   "outputs": [],
   "source": [
    "# --------------------- TODO2: --------------------- #\n",
    "# Can you define a cost function for your models?\n",
    "\n",
    "def cost_function(predict_y, y):\n",
    "    \"\"\"\n",
    "    : param predict_y: list, a list of predictions that are given by your model\n",
    "    : param y: list, a list of real data values\n",
    "    : return: float, the mean of losses\n",
    "    \"\"\"\n",
    "    total = 0\n",
    "    for i in range(len(y)):\n",
    "        total += (predict_y[i]-y[i])**2\n",
    "    return total  / (2*len(y))\n",
    "    # 一行版本\n",
    "#     return sum( (predict_y[i]-y[i])**2 for i in range(len(y)) ) / (2*len(y))\n",
    "\n",
    "# --------------------- TODO2: --------------------- #"
   ]
  },
  {
   "cell_type": "code",
   "execution_count": 71,
   "metadata": {},
   "outputs": [
    {
     "name": "stdout",
     "output_type": "stream",
     "text": [
      "5.0390979628404775\n"
     ]
    }
   ],
   "source": [
    "# You should see 5.0390979628404775\n",
    "\n",
    "print(cost_function(predict_y1, y))"
   ]
  },
  {
   "cell_type": "code",
   "execution_count": null,
   "metadata": {},
   "outputs": [],
   "source": []
  },
  {
   "cell_type": "code",
   "execution_count": 72,
   "metadata": {},
   "outputs": [
    {
     "name": "stdout",
     "output_type": "stream",
     "text": [
      "[2, 2, 2, 2, 2, 2, 2, 2, 2, 2, 2, 2, 2, 2, 2, 2, 2, 2, 2, 2, 2]\n"
     ]
    }
   ],
   "source": [
    "# --------------------- TODO3: --------------------- #\n",
    "# What is the predict data predict_y2 for model y = 2?\n",
    "\n",
    "x = [6.1101,5.5277,8.5186,7.0032,5.8598,8.3829,7.4764,8.5781,6.4862,5.0546,5.7107,10.164,5.734,8.4084,5.6407,5.3794,6.3654,5.1301,6.4296,7.0708,6.1891]\n",
    "predict_y2 = [2] * len(x)\n",
    "# predict_y2 = list(2 for i in x)\n",
    "print(preduct_y2)\n",
    "# --------------------- TODO3: --------------------- #"
   ]
  },
  {
   "cell_type": "code",
   "execution_count": 73,
   "metadata": {},
   "outputs": [
    {
     "data": {
      "image/png": "[encoded data removed]",
      "text/plain": [
       "<Figure size 432x288 with 1 Axes>"
      ]
     },
     "metadata": {
      "needs_background": "light"
     },
     "output_type": "display_data"
    }
   ],
   "source": [
    "# ------------------ Visualize prediction of your model ------------------ #\n",
    "plt.scatter(x, y)\n",
    "axes = plt.gca()\n",
    "axes.set_xlim([0,12])\n",
    "axes.set_ylim([0,30])\n",
    "x_plot = np.linspace(0, 12, 140)\n",
    "y_plot = [2] * len(x_plot)\n",
    "plt.scatter(x_plot, y_plot, s=8, color='red')\n",
    "plt.scatter(x, y, color='blue')\n",
    "plt.title(\"Model y=2\", color='red', fontdict = {'fontsize': 20})\n",
    "plt.show()\n",
    "# ------------------ Visualize Data Points and your model ------------------ #"
   ]
  },
  {
   "cell_type": "code",
   "execution_count": 74,
   "metadata": {},
   "outputs": [
    {
     "name": "stdout",
     "output_type": "stream",
     "text": [
      "19.07210024965\n"
     ]
    }
   ],
   "source": [
    "# You should see 19.0721002497\n",
    "\n",
    "\n",
    "print(cost_function(predict_y2, y))"
   ]
  },
  {
   "cell_type": "code",
   "execution_count": null,
   "metadata": {},
   "outputs": [],
   "source": []
  },
  {
   "cell_type": "code",
   "execution_count": 111,
   "metadata": {},
   "outputs": [],
   "source": [
    "SLOPE = 1.01"
   ]
  },
  {
   "cell_type": "code",
   "execution_count": 112,
   "metadata": {},
   "outputs": [],
   "source": [
    "# --------------------- TODO4: --------------------- #\n",
    "# Can you figure out a model that can obtain a smaller cost than model1?\n",
    "\n",
    "# Your model: y = SLOPE * x\n",
    "\n",
    "x = [6.1101,5.5277,8.5186,7.0032,5.8598,8.3829,7.4764,8.5781,6.4862,5.0546,5.7107,10.164,5.734,8.4084,5.6407,5.3794,6.3654,5.1301,6.4296,7.0708,6.1891]\n",
    "your_predict_y = list(SLOPE*x[i] for i in range(len(x)))\n",
    "\n",
    "# --------------------- TODO4: --------------------- #"
   ]
  },
  {
   "cell_type": "code",
   "execution_count": 113,
   "metadata": {},
   "outputs": [
    {
     "data": {
      "image/png": "[encoded data removed]",
      "text/plain": [
       "<Figure size 432x288 with 1 Axes>"
      ]
     },
     "metadata": {
      "needs_background": "light"
     },
     "output_type": "display_data"
    }
   ],
   "source": [
    "# ------------------ Visualize prediction of your model ------------------ #\n",
    "plt.scatter(x, y)\n",
    "axes = plt.gca()\n",
    "axes.set_xlim([0,12])\n",
    "axes.set_ylim([0,30])\n",
    "x_plot = np.linspace(0, 12, 140)\n",
    "y_plot = SLOPE * x_plot\n",
    "plt.scatter(x_plot, y_plot, s=8, color='red')\n",
    "plt.scatter(x, y, color='blue')\n",
    "plt.title(f\"Model y={SLOPE}x\", color='red', fontdict = {'fontsize': 20})\n",
    "plt.show()\n",
    "# ------------------ Visualize Data Points and your model ------------------ #"
   ]
  },
  {
   "cell_type": "code",
   "execution_count": 114,
   "metadata": {},
   "outputs": [
    {
     "name": "stdout",
     "output_type": "stream",
     "text": [
      "[Cost for y=x]\n",
      "5.0390979628404775\n",
      "\n",
      "\n",
      "[Cost for your model y=1.01x]\n",
      "5.0247982522838095\n",
      "\n",
      "\n",
      "Your model won 😆!!!!\n"
     ]
    }
   ],
   "source": [
    "print('[Cost for y=x]')\n",
    "print(cost_function(predict_y1, y))\n",
    "\n",
    "print(f'\\n\\n[Cost for your model y={SLOPE}x]')\n",
    "print(cost_function(your_predict_y, y))\n",
    "\n",
    "if cost_function(predict_y1, y) > cost_function(your_predict_y, y):\n",
    "    print('\\n\\nYour model won 😆!!!!')\n",
    "else:\n",
    "    print('\\n\\nOops... You lost 😭 Keep trying!!')"
   ]
  },
  {
   "cell_type": "code",
   "execution_count": null,
   "metadata": {},
   "outputs": [],
   "source": []
  }
 ],
 "metadata": {
  "kernelspec": {
   "display_name": "Python 3 (ipykernel)",
   "language": "python",
   "name": "python3"
  },
  "language_info": {
   "codemirror_mode": {
    "name": "ipython",
    "version": 3
   },
   "file_extension": ".py",
   "mimetype": "text/x-python",
   "name": "python",
   "nbconvert_exporter": "python",
   "pygments_lexer": "ipython3",
   "version": "3.9.7"
  }
 },
 "nbformat": 4,
 "nbformat_minor": 4
}
